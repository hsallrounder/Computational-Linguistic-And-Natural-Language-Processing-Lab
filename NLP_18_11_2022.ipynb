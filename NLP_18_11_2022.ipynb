{
  "nbformat": 4,
  "nbformat_minor": 0,
  "metadata": {
    "colab": {
      "provenance": [],
      "authorship_tag": "ABX9TyP9foxvj0jmj8zH+zazRkZH",
      "include_colab_link": true
    },
    "kernelspec": {
      "name": "python3",
      "display_name": "Python 3"
    },
    "language_info": {
      "name": "python"
    }
  },
  "cells": [
    {
      "cell_type": "markdown",
      "metadata": {
        "id": "view-in-github",
        "colab_type": "text"
      },
      "source": [
        "<a href=\"https://colab.research.google.com/github/hsallrounder/Computational-Linguistic-And-Natural-Language-Processing-Lab/blob/main/NLP_18_11_2022.ipynb\" target=\"_parent\"><img src=\"https://colab.research.google.com/assets/colab-badge.svg\" alt=\"Open In Colab\"/></a>"
      ]
    },
    {
      "cell_type": "code",
      "execution_count": 1,
      "metadata": {
        "colab": {
          "base_uri": "https://localhost:8080/"
        },
        "id": "QHnJdamG9C3N",
        "outputId": "f284a0df-5ffc-4007-c80a-56026c223889"
      },
      "outputs": [
        {
          "output_type": "stream",
          "name": "stdout",
          "text": [
            "Looking in indexes: https://pypi.org/simple, https://us-python.pkg.dev/colab-wheels/public/simple/\n",
            "Requirement already satisfied: spacy in /usr/local/lib/python3.7/dist-packages (3.4.2)\n",
            "Requirement already satisfied: langcodes<4.0.0,>=3.2.0 in /usr/local/lib/python3.7/dist-packages (from spacy) (3.3.0)\n",
            "Requirement already satisfied: pathy>=0.3.5 in /usr/local/lib/python3.7/dist-packages (from spacy) (0.6.2)\n",
            "Requirement already satisfied: spacy-legacy<3.1.0,>=3.0.10 in /usr/local/lib/python3.7/dist-packages (from spacy) (3.0.10)\n",
            "Requirement already satisfied: packaging>=20.0 in /usr/local/lib/python3.7/dist-packages (from spacy) (21.3)\n",
            "Requirement already satisfied: murmurhash<1.1.0,>=0.28.0 in /usr/local/lib/python3.7/dist-packages (from spacy) (1.0.9)\n",
            "Requirement already satisfied: jinja2 in /usr/local/lib/python3.7/dist-packages (from spacy) (2.11.3)\n",
            "Requirement already satisfied: spacy-loggers<2.0.0,>=1.0.0 in /usr/local/lib/python3.7/dist-packages (from spacy) (1.0.3)\n",
            "Requirement already satisfied: typer<0.5.0,>=0.3.0 in /usr/local/lib/python3.7/dist-packages (from spacy) (0.4.2)\n",
            "Requirement already satisfied: catalogue<2.1.0,>=2.0.6 in /usr/local/lib/python3.7/dist-packages (from spacy) (2.0.8)\n",
            "Requirement already satisfied: typing-extensions<4.2.0,>=3.7.4 in /usr/local/lib/python3.7/dist-packages (from spacy) (4.1.1)\n",
            "Requirement already satisfied: wasabi<1.1.0,>=0.9.1 in /usr/local/lib/python3.7/dist-packages (from spacy) (0.10.1)\n",
            "Requirement already satisfied: tqdm<5.0.0,>=4.38.0 in /usr/local/lib/python3.7/dist-packages (from spacy) (4.64.1)\n",
            "Requirement already satisfied: preshed<3.1.0,>=3.0.2 in /usr/local/lib/python3.7/dist-packages (from spacy) (3.0.8)\n",
            "Requirement already satisfied: setuptools in /usr/local/lib/python3.7/dist-packages (from spacy) (57.4.0)\n",
            "Requirement already satisfied: numpy>=1.15.0 in /usr/local/lib/python3.7/dist-packages (from spacy) (1.21.6)\n",
            "Requirement already satisfied: srsly<3.0.0,>=2.4.3 in /usr/local/lib/python3.7/dist-packages (from spacy) (2.4.5)\n",
            "Requirement already satisfied: requests<3.0.0,>=2.13.0 in /usr/local/lib/python3.7/dist-packages (from spacy) (2.23.0)\n",
            "Requirement already satisfied: pydantic!=1.8,!=1.8.1,<1.11.0,>=1.7.4 in /usr/local/lib/python3.7/dist-packages (from spacy) (1.10.2)\n",
            "Requirement already satisfied: thinc<8.2.0,>=8.1.0 in /usr/local/lib/python3.7/dist-packages (from spacy) (8.1.5)\n",
            "Requirement already satisfied: cymem<2.1.0,>=2.0.2 in /usr/local/lib/python3.7/dist-packages (from spacy) (2.0.7)\n",
            "Requirement already satisfied: zipp>=0.5 in /usr/local/lib/python3.7/dist-packages (from catalogue<2.1.0,>=2.0.6->spacy) (3.10.0)\n",
            "Requirement already satisfied: pyparsing!=3.0.5,>=2.0.2 in /usr/local/lib/python3.7/dist-packages (from packaging>=20.0->spacy) (3.0.9)\n",
            "Requirement already satisfied: smart-open<6.0.0,>=5.2.1 in /usr/local/lib/python3.7/dist-packages (from pathy>=0.3.5->spacy) (5.2.1)\n",
            "Requirement already satisfied: certifi>=2017.4.17 in /usr/local/lib/python3.7/dist-packages (from requests<3.0.0,>=2.13.0->spacy) (2022.9.24)\n",
            "Requirement already satisfied: idna<3,>=2.5 in /usr/local/lib/python3.7/dist-packages (from requests<3.0.0,>=2.13.0->spacy) (2.10)\n",
            "Requirement already satisfied: urllib3!=1.25.0,!=1.25.1,<1.26,>=1.21.1 in /usr/local/lib/python3.7/dist-packages (from requests<3.0.0,>=2.13.0->spacy) (1.24.3)\n",
            "Requirement already satisfied: chardet<4,>=3.0.2 in /usr/local/lib/python3.7/dist-packages (from requests<3.0.0,>=2.13.0->spacy) (3.0.4)\n",
            "Requirement already satisfied: blis<0.8.0,>=0.7.8 in /usr/local/lib/python3.7/dist-packages (from thinc<8.2.0,>=8.1.0->spacy) (0.7.9)\n",
            "Requirement already satisfied: confection<1.0.0,>=0.0.1 in /usr/local/lib/python3.7/dist-packages (from thinc<8.2.0,>=8.1.0->spacy) (0.0.3)\n",
            "Requirement already satisfied: click<9.0.0,>=7.1.1 in /usr/local/lib/python3.7/dist-packages (from typer<0.5.0,>=0.3.0->spacy) (7.1.2)\n",
            "Requirement already satisfied: MarkupSafe>=0.23 in /usr/local/lib/python3.7/dist-packages (from jinja2->spacy) (2.0.1)\n"
          ]
        }
      ],
      "source": [
        "!pip install spacy"
      ]
    },
    {
      "cell_type": "code",
      "source": [
        "import spacy"
      ],
      "metadata": {
        "id": "6EIZRhRF-gIR"
      },
      "execution_count": 2,
      "outputs": []
    },
    {
      "cell_type": "code",
      "source": [
        "nlp=spacy.load('en_core_web_sm')"
      ],
      "metadata": {
        "id": "z-ASYpD--g1l"
      },
      "execution_count": 3,
      "outputs": []
    },
    {
      "cell_type": "code",
      "source": [
        "doc=nlp(\"I will Google about Whitehouse\")"
      ],
      "metadata": {
        "id": "85QEWNkb-n_m"
      },
      "execution_count": 4,
      "outputs": []
    },
    {
      "cell_type": "code",
      "source": [
        "doc.text"
      ],
      "metadata": {
        "colab": {
          "base_uri": "https://localhost:8080/",
          "height": 36
        },
        "id": "wtdDTZ_R-sKK",
        "outputId": "b117bafa-3686-46b3-a0bc-01399544e224"
      },
      "execution_count": 5,
      "outputs": [
        {
          "output_type": "execute_result",
          "data": {
            "text/plain": [
              "'I will Google about Whitehouse'"
            ],
            "application/vnd.google.colaboratory.intrinsic+json": {
              "type": "string"
            }
          },
          "metadata": {},
          "execution_count": 5
        }
      ]
    },
    {
      "cell_type": "code",
      "source": [
        "doc[0].pos_"
      ],
      "metadata": {
        "colab": {
          "base_uri": "https://localhost:8080/",
          "height": 36
        },
        "id": "Jw-H3IYs-yR-",
        "outputId": "7bc2b274-b830-47f0-a3de-30510b749033"
      },
      "execution_count": 6,
      "outputs": [
        {
          "output_type": "execute_result",
          "data": {
            "text/plain": [
              "'PRON'"
            ],
            "application/vnd.google.colaboratory.intrinsic+json": {
              "type": "string"
            }
          },
          "metadata": {},
          "execution_count": 6
        }
      ]
    },
    {
      "cell_type": "code",
      "source": [
        "doc[0].tag_"
      ],
      "metadata": {
        "colab": {
          "base_uri": "https://localhost:8080/",
          "height": 36
        },
        "id": "wXUQKzRn-xOY",
        "outputId": "e1379100-e4c6-4cc1-8c4d-3723e1f788ba"
      },
      "execution_count": 7,
      "outputs": [
        {
          "output_type": "execute_result",
          "data": {
            "text/plain": [
              "'PRP'"
            ],
            "application/vnd.google.colaboratory.intrinsic+json": {
              "type": "string"
            }
          },
          "metadata": {},
          "execution_count": 7
        }
      ]
    },
    {
      "cell_type": "code",
      "source": [
        "spacy.explain('PRP')"
      ],
      "metadata": {
        "colab": {
          "base_uri": "https://localhost:8080/",
          "height": 36
        },
        "id": "bUacXaGB-0qy",
        "outputId": "db0694b9-e7f7-4b15-a262-5621e96af17a"
      },
      "execution_count": 8,
      "outputs": [
        {
          "output_type": "execute_result",
          "data": {
            "text/plain": [
              "'pronoun, personal'"
            ],
            "application/vnd.google.colaboratory.intrinsic+json": {
              "type": "string"
            }
          },
          "metadata": {},
          "execution_count": 8
        }
      ]
    },
    {
      "cell_type": "code",
      "source": [
        "for i in doc:\n",
        "    print(i,\"=\",i.pos_,i.tag_,spacy.explain(i.tag_))"
      ],
      "metadata": {
        "colab": {
          "base_uri": "https://localhost:8080/"
        },
        "id": "2IQAFjom-3Uw",
        "outputId": "c3893911-c7e4-45be-c13b-a1441357935b"
      },
      "execution_count": 9,
      "outputs": [
        {
          "output_type": "stream",
          "name": "stdout",
          "text": [
            "I = PRON PRP pronoun, personal\n",
            "will = AUX MD verb, modal auxiliary\n",
            "Google = PROPN NNP noun, proper singular\n",
            "about = ADP IN conjunction, subordinating or preposition\n",
            "Whitehouse = NOUN NN noun, singular or mass\n"
          ]
        }
      ]
    },
    {
      "cell_type": "code",
      "source": [
        "doc2=nlp(\"i left the room\")"
      ],
      "metadata": {
        "id": "okTODcrc_Jic"
      },
      "execution_count": 10,
      "outputs": []
    },
    {
      "cell_type": "code",
      "source": [
        "for i in doc2:\n",
        "    print(i,\"=\",i.pos_,i.tag_,spacy.explain(i.tag_))"
      ],
      "metadata": {
        "colab": {
          "base_uri": "https://localhost:8080/"
        },
        "id": "wjsArrAO_pvV",
        "outputId": "bdd2a712-f1ef-4a73-e3a0-736cbbd87f4b"
      },
      "execution_count": 11,
      "outputs": [
        {
          "output_type": "stream",
          "name": "stdout",
          "text": [
            "i = PRON PRP pronoun, personal\n",
            "left = VERB VBD verb, past tense\n",
            "the = DET DT determiner\n",
            "room = NOUN NN noun, singular or mass\n"
          ]
        }
      ]
    },
    {
      "cell_type": "code",
      "source": [
        "from spacy import displacy"
      ],
      "metadata": {
        "id": "H5lol3TW_4l0"
      },
      "execution_count": 12,
      "outputs": []
    },
    {
      "cell_type": "code",
      "source": [
        "displacy.render(doc,style='dep',jupyter=True)"
      ],
      "metadata": {
        "colab": {
          "base_uri": "https://localhost:8080/",
          "height": 334
        },
        "id": "whymeVWPBEbT",
        "outputId": "9007c772-3d53-4a52-a13b-1ade14db3872"
      },
      "execution_count": 13,
      "outputs": [
        {
          "output_type": "display_data",
          "data": {
            "text/plain": [
              "<IPython.core.display.HTML object>"
            ],
            "text/html": [
              "<span class=\"tex2jax_ignore\"><svg xmlns=\"http://www.w3.org/2000/svg\" xmlns:xlink=\"http://www.w3.org/1999/xlink\" xml:lang=\"en\" id=\"bf9d825e4caf4bf3b2da143a7370428b-0\" class=\"displacy\" width=\"925\" height=\"312.0\" direction=\"ltr\" style=\"max-width: none; height: 312.0px; color: #000000; background: #ffffff; font-family: Arial; direction: ltr\">\n",
              "<text class=\"displacy-token\" fill=\"currentColor\" text-anchor=\"middle\" y=\"222.0\">\n",
              "    <tspan class=\"displacy-word\" fill=\"currentColor\" x=\"50\">I</tspan>\n",
              "    <tspan class=\"displacy-tag\" dy=\"2em\" fill=\"currentColor\" x=\"50\">PRON</tspan>\n",
              "</text>\n",
              "\n",
              "<text class=\"displacy-token\" fill=\"currentColor\" text-anchor=\"middle\" y=\"222.0\">\n",
              "    <tspan class=\"displacy-word\" fill=\"currentColor\" x=\"225\">will</tspan>\n",
              "    <tspan class=\"displacy-tag\" dy=\"2em\" fill=\"currentColor\" x=\"225\">AUX</tspan>\n",
              "</text>\n",
              "\n",
              "<text class=\"displacy-token\" fill=\"currentColor\" text-anchor=\"middle\" y=\"222.0\">\n",
              "    <tspan class=\"displacy-word\" fill=\"currentColor\" x=\"400\">Google</tspan>\n",
              "    <tspan class=\"displacy-tag\" dy=\"2em\" fill=\"currentColor\" x=\"400\">PROPN</tspan>\n",
              "</text>\n",
              "\n",
              "<text class=\"displacy-token\" fill=\"currentColor\" text-anchor=\"middle\" y=\"222.0\">\n",
              "    <tspan class=\"displacy-word\" fill=\"currentColor\" x=\"575\">about</tspan>\n",
              "    <tspan class=\"displacy-tag\" dy=\"2em\" fill=\"currentColor\" x=\"575\">ADP</tspan>\n",
              "</text>\n",
              "\n",
              "<text class=\"displacy-token\" fill=\"currentColor\" text-anchor=\"middle\" y=\"222.0\">\n",
              "    <tspan class=\"displacy-word\" fill=\"currentColor\" x=\"750\">Whitehouse</tspan>\n",
              "    <tspan class=\"displacy-tag\" dy=\"2em\" fill=\"currentColor\" x=\"750\">NOUN</tspan>\n",
              "</text>\n",
              "\n",
              "<g class=\"displacy-arrow\">\n",
              "    <path class=\"displacy-arc\" id=\"arrow-bf9d825e4caf4bf3b2da143a7370428b-0-0\" stroke-width=\"2px\" d=\"M70,177.0 C70,2.0 400.0,2.0 400.0,177.0\" fill=\"none\" stroke=\"currentColor\"/>\n",
              "    <text dy=\"1.25em\" style=\"font-size: 0.8em; letter-spacing: 1px\">\n",
              "        <textPath xlink:href=\"#arrow-bf9d825e4caf4bf3b2da143a7370428b-0-0\" class=\"displacy-label\" startOffset=\"50%\" side=\"left\" fill=\"currentColor\" text-anchor=\"middle\">nsubj</textPath>\n",
              "    </text>\n",
              "    <path class=\"displacy-arrowhead\" d=\"M70,179.0 L62,167.0 78,167.0\" fill=\"currentColor\"/>\n",
              "</g>\n",
              "\n",
              "<g class=\"displacy-arrow\">\n",
              "    <path class=\"displacy-arc\" id=\"arrow-bf9d825e4caf4bf3b2da143a7370428b-0-1\" stroke-width=\"2px\" d=\"M245,177.0 C245,89.5 395.0,89.5 395.0,177.0\" fill=\"none\" stroke=\"currentColor\"/>\n",
              "    <text dy=\"1.25em\" style=\"font-size: 0.8em; letter-spacing: 1px\">\n",
              "        <textPath xlink:href=\"#arrow-bf9d825e4caf4bf3b2da143a7370428b-0-1\" class=\"displacy-label\" startOffset=\"50%\" side=\"left\" fill=\"currentColor\" text-anchor=\"middle\">aux</textPath>\n",
              "    </text>\n",
              "    <path class=\"displacy-arrowhead\" d=\"M245,179.0 L237,167.0 253,167.0\" fill=\"currentColor\"/>\n",
              "</g>\n",
              "\n",
              "<g class=\"displacy-arrow\">\n",
              "    <path class=\"displacy-arc\" id=\"arrow-bf9d825e4caf4bf3b2da143a7370428b-0-2\" stroke-width=\"2px\" d=\"M420,177.0 C420,89.5 570.0,89.5 570.0,177.0\" fill=\"none\" stroke=\"currentColor\"/>\n",
              "    <text dy=\"1.25em\" style=\"font-size: 0.8em; letter-spacing: 1px\">\n",
              "        <textPath xlink:href=\"#arrow-bf9d825e4caf4bf3b2da143a7370428b-0-2\" class=\"displacy-label\" startOffset=\"50%\" side=\"left\" fill=\"currentColor\" text-anchor=\"middle\">prep</textPath>\n",
              "    </text>\n",
              "    <path class=\"displacy-arrowhead\" d=\"M570.0,179.0 L578.0,167.0 562.0,167.0\" fill=\"currentColor\"/>\n",
              "</g>\n",
              "\n",
              "<g class=\"displacy-arrow\">\n",
              "    <path class=\"displacy-arc\" id=\"arrow-bf9d825e4caf4bf3b2da143a7370428b-0-3\" stroke-width=\"2px\" d=\"M595,177.0 C595,89.5 745.0,89.5 745.0,177.0\" fill=\"none\" stroke=\"currentColor\"/>\n",
              "    <text dy=\"1.25em\" style=\"font-size: 0.8em; letter-spacing: 1px\">\n",
              "        <textPath xlink:href=\"#arrow-bf9d825e4caf4bf3b2da143a7370428b-0-3\" class=\"displacy-label\" startOffset=\"50%\" side=\"left\" fill=\"currentColor\" text-anchor=\"middle\">pobj</textPath>\n",
              "    </text>\n",
              "    <path class=\"displacy-arrowhead\" d=\"M745.0,179.0 L753.0,167.0 737.0,167.0\" fill=\"currentColor\"/>\n",
              "</g>\n",
              "</svg></span>"
            ]
          },
          "metadata": {}
        }
      ]
    },
    {
      "cell_type": "code",
      "source": [
        "options={'distance':80,\n",
        "         'compact':False,\n",
        "         'color':'#fff',\n",
        "         'bg':'#00a65a'\n",
        "         }"
      ],
      "metadata": {
        "id": "L1L-bR5AAWhC"
      },
      "execution_count": 14,
      "outputs": []
    },
    {
      "cell_type": "code",
      "source": [
        "#'dep' for dependency\n",
        "displacy.render(doc,style='dep',jupyter=True,options=options)"
      ],
      "metadata": {
        "colab": {
          "base_uri": "https://localhost:8080/",
          "height": 239
        },
        "id": "Qkti81qN_7FZ",
        "outputId": "c1d23328-ab05-4c22-ea1d-2f1dd5edce6b"
      },
      "execution_count": 15,
      "outputs": [
        {
          "output_type": "display_data",
          "data": {
            "text/plain": [
              "<IPython.core.display.HTML object>"
            ],
            "text/html": [
              "<span class=\"tex2jax_ignore\"><svg xmlns=\"http://www.w3.org/2000/svg\" xmlns:xlink=\"http://www.w3.org/1999/xlink\" xml:lang=\"en\" id=\"b3f7f0f96309450b8117ebdc629e3fb9-0\" class=\"displacy\" width=\"450\" height=\"217.0\" direction=\"ltr\" style=\"max-width: none; height: 217.0px; color: #fff; background: #00a65a; font-family: Arial; direction: ltr\">\n",
              "<text class=\"displacy-token\" fill=\"currentColor\" text-anchor=\"middle\" y=\"127.0\">\n",
              "    <tspan class=\"displacy-word\" fill=\"currentColor\" x=\"50\">I</tspan>\n",
              "    <tspan class=\"displacy-tag\" dy=\"2em\" fill=\"currentColor\" x=\"50\">PRON</tspan>\n",
              "</text>\n",
              "\n",
              "<text class=\"displacy-token\" fill=\"currentColor\" text-anchor=\"middle\" y=\"127.0\">\n",
              "    <tspan class=\"displacy-word\" fill=\"currentColor\" x=\"130\">will</tspan>\n",
              "    <tspan class=\"displacy-tag\" dy=\"2em\" fill=\"currentColor\" x=\"130\">AUX</tspan>\n",
              "</text>\n",
              "\n",
              "<text class=\"displacy-token\" fill=\"currentColor\" text-anchor=\"middle\" y=\"127.0\">\n",
              "    <tspan class=\"displacy-word\" fill=\"currentColor\" x=\"210\">Google</tspan>\n",
              "    <tspan class=\"displacy-tag\" dy=\"2em\" fill=\"currentColor\" x=\"210\">PROPN</tspan>\n",
              "</text>\n",
              "\n",
              "<text class=\"displacy-token\" fill=\"currentColor\" text-anchor=\"middle\" y=\"127.0\">\n",
              "    <tspan class=\"displacy-word\" fill=\"currentColor\" x=\"290\">about</tspan>\n",
              "    <tspan class=\"displacy-tag\" dy=\"2em\" fill=\"currentColor\" x=\"290\">ADP</tspan>\n",
              "</text>\n",
              "\n",
              "<text class=\"displacy-token\" fill=\"currentColor\" text-anchor=\"middle\" y=\"127.0\">\n",
              "    <tspan class=\"displacy-word\" fill=\"currentColor\" x=\"370\">Whitehouse</tspan>\n",
              "    <tspan class=\"displacy-tag\" dy=\"2em\" fill=\"currentColor\" x=\"370\">NOUN</tspan>\n",
              "</text>\n",
              "\n",
              "<g class=\"displacy-arrow\">\n",
              "    <path class=\"displacy-arc\" id=\"arrow-b3f7f0f96309450b8117ebdc629e3fb9-0-0\" stroke-width=\"2px\" d=\"M70,82.0 C70,2.0 210.0,2.0 210.0,82.0\" fill=\"none\" stroke=\"currentColor\"/>\n",
              "    <text dy=\"1.25em\" style=\"font-size: 0.8em; letter-spacing: 1px\">\n",
              "        <textPath xlink:href=\"#arrow-b3f7f0f96309450b8117ebdc629e3fb9-0-0\" class=\"displacy-label\" startOffset=\"50%\" side=\"left\" fill=\"currentColor\" text-anchor=\"middle\">nsubj</textPath>\n",
              "    </text>\n",
              "    <path class=\"displacy-arrowhead\" d=\"M70,84.0 L62,72.0 78,72.0\" fill=\"currentColor\"/>\n",
              "</g>\n",
              "\n",
              "<g class=\"displacy-arrow\">\n",
              "    <path class=\"displacy-arc\" id=\"arrow-b3f7f0f96309450b8117ebdc629e3fb9-0-1\" stroke-width=\"2px\" d=\"M150,82.0 C150,42.0 205.0,42.0 205.0,82.0\" fill=\"none\" stroke=\"currentColor\"/>\n",
              "    <text dy=\"1.25em\" style=\"font-size: 0.8em; letter-spacing: 1px\">\n",
              "        <textPath xlink:href=\"#arrow-b3f7f0f96309450b8117ebdc629e3fb9-0-1\" class=\"displacy-label\" startOffset=\"50%\" side=\"left\" fill=\"currentColor\" text-anchor=\"middle\">aux</textPath>\n",
              "    </text>\n",
              "    <path class=\"displacy-arrowhead\" d=\"M150,84.0 L142,72.0 158,72.0\" fill=\"currentColor\"/>\n",
              "</g>\n",
              "\n",
              "<g class=\"displacy-arrow\">\n",
              "    <path class=\"displacy-arc\" id=\"arrow-b3f7f0f96309450b8117ebdc629e3fb9-0-2\" stroke-width=\"2px\" d=\"M230,82.0 C230,42.0 285.0,42.0 285.0,82.0\" fill=\"none\" stroke=\"currentColor\"/>\n",
              "    <text dy=\"1.25em\" style=\"font-size: 0.8em; letter-spacing: 1px\">\n",
              "        <textPath xlink:href=\"#arrow-b3f7f0f96309450b8117ebdc629e3fb9-0-2\" class=\"displacy-label\" startOffset=\"50%\" side=\"left\" fill=\"currentColor\" text-anchor=\"middle\">prep</textPath>\n",
              "    </text>\n",
              "    <path class=\"displacy-arrowhead\" d=\"M285.0,84.0 L293.0,72.0 277.0,72.0\" fill=\"currentColor\"/>\n",
              "</g>\n",
              "\n",
              "<g class=\"displacy-arrow\">\n",
              "    <path class=\"displacy-arc\" id=\"arrow-b3f7f0f96309450b8117ebdc629e3fb9-0-3\" stroke-width=\"2px\" d=\"M310,82.0 C310,42.0 365.0,42.0 365.0,82.0\" fill=\"none\" stroke=\"currentColor\"/>\n",
              "    <text dy=\"1.25em\" style=\"font-size: 0.8em; letter-spacing: 1px\">\n",
              "        <textPath xlink:href=\"#arrow-b3f7f0f96309450b8117ebdc629e3fb9-0-3\" class=\"displacy-label\" startOffset=\"50%\" side=\"left\" fill=\"currentColor\" text-anchor=\"middle\">pobj</textPath>\n",
              "    </text>\n",
              "    <path class=\"displacy-arrowhead\" d=\"M365.0,84.0 L373.0,72.0 357.0,72.0\" fill=\"currentColor\"/>\n",
              "</g>\n",
              "</svg></span>"
            ]
          },
          "metadata": {}
        }
      ]
    },
    {
      "cell_type": "code",
      "source": [
        "doc=nlp(\"I will Google about Narendra Modi\")"
      ],
      "metadata": {
        "id": "vmNRcmU0DDEy"
      },
      "execution_count": 16,
      "outputs": []
    },
    {
      "cell_type": "code",
      "source": [
        "#'ent' for entity\n",
        "displacy.render(doc,style='ent',jupyter=True,options=options)"
      ],
      "metadata": {
        "colab": {
          "base_uri": "https://localhost:8080/",
          "height": 52
        },
        "id": "Z9WHaia9CDB4",
        "outputId": "a33f260a-cb88-430d-ee01-e1d483168a05"
      },
      "execution_count": 17,
      "outputs": [
        {
          "output_type": "display_data",
          "data": {
            "text/plain": [
              "<IPython.core.display.HTML object>"
            ],
            "text/html": [
              "<span class=\"tex2jax_ignore\"><div class=\"entities\" style=\"line-height: 2.5; direction: ltr\">I will \n",
              "<mark class=\"entity\" style=\"background: #7aecec; padding: 0.45em 0.6em; margin: 0 0.25em; line-height: 1; border-radius: 0.35em;\">\n",
              "    Google\n",
              "    <span style=\"font-size: 0.8em; font-weight: bold; line-height: 1; border-radius: 0.35em; vertical-align: middle; margin-left: 0.5rem\">ORG</span>\n",
              "</mark>\n",
              " about \n",
              "<mark class=\"entity\" style=\"background: #aa9cfc; padding: 0.45em 0.6em; margin: 0 0.25em; line-height: 1; border-radius: 0.35em;\">\n",
              "    Narendra Modi\n",
              "    <span style=\"font-size: 0.8em; font-weight: bold; line-height: 1; border-radius: 0.35em; vertical-align: middle; margin-left: 0.5rem\">PERSON</span>\n",
              "</mark>\n",
              "</div></span>"
            ]
          },
          "metadata": {}
        }
      ]
    },
    {
      "cell_type": "code",
      "source": [
        "!pip install nltk\n",
        "import nltk\n",
        "nltk.download(\"all\")\n",
        "from nltk import word_tokenize"
      ],
      "metadata": {
        "colab": {
          "base_uri": "https://localhost:8080/"
        },
        "id": "zPil3iUGEdTG",
        "outputId": "a84e48c1-9a7c-49e0-8b57-38752e1f32e4"
      },
      "execution_count": 18,
      "outputs": [
        {
          "output_type": "stream",
          "name": "stdout",
          "text": [
            "Looking in indexes: https://pypi.org/simple, https://us-python.pkg.dev/colab-wheels/public/simple/\n",
            "Requirement already satisfied: nltk in /usr/local/lib/python3.7/dist-packages (3.7)\n",
            "Requirement already satisfied: click in /usr/local/lib/python3.7/dist-packages (from nltk) (7.1.2)\n",
            "Requirement already satisfied: joblib in /usr/local/lib/python3.7/dist-packages (from nltk) (1.2.0)\n",
            "Requirement already satisfied: tqdm in /usr/local/lib/python3.7/dist-packages (from nltk) (4.64.1)\n",
            "Requirement already satisfied: regex>=2021.8.3 in /usr/local/lib/python3.7/dist-packages (from nltk) (2022.6.2)\n"
          ]
        },
        {
          "output_type": "stream",
          "name": "stderr",
          "text": [
            "[nltk_data] Downloading collection 'all'\n",
            "[nltk_data]    | \n",
            "[nltk_data]    | Downloading package abc to /root/nltk_data...\n",
            "[nltk_data]    |   Package abc is already up-to-date!\n",
            "[nltk_data]    | Downloading package alpino to /root/nltk_data...\n",
            "[nltk_data]    |   Package alpino is already up-to-date!\n",
            "[nltk_data]    | Downloading package averaged_perceptron_tagger to\n",
            "[nltk_data]    |     /root/nltk_data...\n",
            "[nltk_data]    |   Package averaged_perceptron_tagger is already up-\n",
            "[nltk_data]    |       to-date!\n",
            "[nltk_data]    | Downloading package averaged_perceptron_tagger_ru to\n",
            "[nltk_data]    |     /root/nltk_data...\n",
            "[nltk_data]    |   Package averaged_perceptron_tagger_ru is already\n",
            "[nltk_data]    |       up-to-date!\n",
            "[nltk_data]    | Downloading package basque_grammars to\n",
            "[nltk_data]    |     /root/nltk_data...\n",
            "[nltk_data]    |   Package basque_grammars is already up-to-date!\n",
            "[nltk_data]    | Downloading package biocreative_ppi to\n",
            "[nltk_data]    |     /root/nltk_data...\n",
            "[nltk_data]    |   Package biocreative_ppi is already up-to-date!\n",
            "[nltk_data]    | Downloading package bllip_wsj_no_aux to\n",
            "[nltk_data]    |     /root/nltk_data...\n",
            "[nltk_data]    |   Package bllip_wsj_no_aux is already up-to-date!\n",
            "[nltk_data]    | Downloading package book_grammars to\n",
            "[nltk_data]    |     /root/nltk_data...\n",
            "[nltk_data]    |   Package book_grammars is already up-to-date!\n",
            "[nltk_data]    | Downloading package brown to /root/nltk_data...\n",
            "[nltk_data]    |   Package brown is already up-to-date!\n",
            "[nltk_data]    | Downloading package brown_tei to /root/nltk_data...\n",
            "[nltk_data]    |   Package brown_tei is already up-to-date!\n",
            "[nltk_data]    | Downloading package cess_cat to /root/nltk_data...\n",
            "[nltk_data]    |   Package cess_cat is already up-to-date!\n",
            "[nltk_data]    | Downloading package cess_esp to /root/nltk_data...\n",
            "[nltk_data]    |   Package cess_esp is already up-to-date!\n",
            "[nltk_data]    | Downloading package chat80 to /root/nltk_data...\n",
            "[nltk_data]    |   Package chat80 is already up-to-date!\n",
            "[nltk_data]    | Downloading package city_database to\n",
            "[nltk_data]    |     /root/nltk_data...\n",
            "[nltk_data]    |   Package city_database is already up-to-date!\n",
            "[nltk_data]    | Downloading package cmudict to /root/nltk_data...\n",
            "[nltk_data]    |   Package cmudict is already up-to-date!\n",
            "[nltk_data]    | Downloading package comparative_sentences to\n",
            "[nltk_data]    |     /root/nltk_data...\n",
            "[nltk_data]    |   Package comparative_sentences is already up-to-\n",
            "[nltk_data]    |       date!\n",
            "[nltk_data]    | Downloading package comtrans to /root/nltk_data...\n",
            "[nltk_data]    |   Package comtrans is already up-to-date!\n",
            "[nltk_data]    | Downloading package conll2000 to /root/nltk_data...\n",
            "[nltk_data]    |   Package conll2000 is already up-to-date!\n",
            "[nltk_data]    | Downloading package conll2002 to /root/nltk_data...\n",
            "[nltk_data]    |   Package conll2002 is already up-to-date!\n",
            "[nltk_data]    | Downloading package conll2007 to /root/nltk_data...\n",
            "[nltk_data]    |   Package conll2007 is already up-to-date!\n",
            "[nltk_data]    | Downloading package crubadan to /root/nltk_data...\n",
            "[nltk_data]    |   Package crubadan is already up-to-date!\n",
            "[nltk_data]    | Downloading package dependency_treebank to\n",
            "[nltk_data]    |     /root/nltk_data...\n",
            "[nltk_data]    |   Package dependency_treebank is already up-to-date!\n",
            "[nltk_data]    | Downloading package dolch to /root/nltk_data...\n",
            "[nltk_data]    |   Package dolch is already up-to-date!\n",
            "[nltk_data]    | Downloading package europarl_raw to\n",
            "[nltk_data]    |     /root/nltk_data...\n",
            "[nltk_data]    |   Package europarl_raw is already up-to-date!\n",
            "[nltk_data]    | Downloading package extended_omw to\n",
            "[nltk_data]    |     /root/nltk_data...\n",
            "[nltk_data]    |   Package extended_omw is already up-to-date!\n",
            "[nltk_data]    | Downloading package floresta to /root/nltk_data...\n",
            "[nltk_data]    |   Package floresta is already up-to-date!\n",
            "[nltk_data]    | Downloading package framenet_v15 to\n",
            "[nltk_data]    |     /root/nltk_data...\n",
            "[nltk_data]    |   Package framenet_v15 is already up-to-date!\n",
            "[nltk_data]    | Downloading package framenet_v17 to\n",
            "[nltk_data]    |     /root/nltk_data...\n",
            "[nltk_data]    |   Package framenet_v17 is already up-to-date!\n",
            "[nltk_data]    | Downloading package gazetteers to /root/nltk_data...\n",
            "[nltk_data]    |   Package gazetteers is already up-to-date!\n",
            "[nltk_data]    | Downloading package genesis to /root/nltk_data...\n",
            "[nltk_data]    |   Package genesis is already up-to-date!\n",
            "[nltk_data]    | Downloading package gutenberg to /root/nltk_data...\n",
            "[nltk_data]    |   Package gutenberg is already up-to-date!\n",
            "[nltk_data]    | Downloading package ieer to /root/nltk_data...\n",
            "[nltk_data]    |   Package ieer is already up-to-date!\n",
            "[nltk_data]    | Downloading package inaugural to /root/nltk_data...\n",
            "[nltk_data]    |   Package inaugural is already up-to-date!\n",
            "[nltk_data]    | Downloading package indian to /root/nltk_data...\n",
            "[nltk_data]    |   Package indian is already up-to-date!\n",
            "[nltk_data]    | Downloading package jeita to /root/nltk_data...\n",
            "[nltk_data]    |   Package jeita is already up-to-date!\n",
            "[nltk_data]    | Downloading package kimmo to /root/nltk_data...\n",
            "[nltk_data]    |   Package kimmo is already up-to-date!\n",
            "[nltk_data]    | Downloading package knbc to /root/nltk_data...\n",
            "[nltk_data]    |   Package knbc is already up-to-date!\n",
            "[nltk_data]    | Downloading package large_grammars to\n",
            "[nltk_data]    |     /root/nltk_data...\n",
            "[nltk_data]    |   Package large_grammars is already up-to-date!\n",
            "[nltk_data]    | Downloading package lin_thesaurus to\n",
            "[nltk_data]    |     /root/nltk_data...\n",
            "[nltk_data]    |   Package lin_thesaurus is already up-to-date!\n",
            "[nltk_data]    | Downloading package mac_morpho to /root/nltk_data...\n",
            "[nltk_data]    |   Package mac_morpho is already up-to-date!\n",
            "[nltk_data]    | Downloading package machado to /root/nltk_data...\n",
            "[nltk_data]    |   Package machado is already up-to-date!\n",
            "[nltk_data]    | Downloading package masc_tagged to /root/nltk_data...\n",
            "[nltk_data]    |   Package masc_tagged is already up-to-date!\n",
            "[nltk_data]    | Downloading package maxent_ne_chunker to\n",
            "[nltk_data]    |     /root/nltk_data...\n",
            "[nltk_data]    |   Package maxent_ne_chunker is already up-to-date!\n",
            "[nltk_data]    | Downloading package maxent_treebank_pos_tagger to\n",
            "[nltk_data]    |     /root/nltk_data...\n",
            "[nltk_data]    |   Package maxent_treebank_pos_tagger is already up-\n",
            "[nltk_data]    |       to-date!\n",
            "[nltk_data]    | Downloading package moses_sample to\n",
            "[nltk_data]    |     /root/nltk_data...\n",
            "[nltk_data]    |   Package moses_sample is already up-to-date!\n",
            "[nltk_data]    | Downloading package movie_reviews to\n",
            "[nltk_data]    |     /root/nltk_data...\n",
            "[nltk_data]    |   Package movie_reviews is already up-to-date!\n",
            "[nltk_data]    | Downloading package mte_teip5 to /root/nltk_data...\n",
            "[nltk_data]    |   Package mte_teip5 is already up-to-date!\n",
            "[nltk_data]    | Downloading package mwa_ppdb to /root/nltk_data...\n",
            "[nltk_data]    |   Package mwa_ppdb is already up-to-date!\n",
            "[nltk_data]    | Downloading package names to /root/nltk_data...\n",
            "[nltk_data]    |   Package names is already up-to-date!\n",
            "[nltk_data]    | Downloading package nombank.1.0 to /root/nltk_data...\n",
            "[nltk_data]    |   Package nombank.1.0 is already up-to-date!\n",
            "[nltk_data]    | Downloading package nonbreaking_prefixes to\n",
            "[nltk_data]    |     /root/nltk_data...\n",
            "[nltk_data]    |   Package nonbreaking_prefixes is already up-to-date!\n",
            "[nltk_data]    | Downloading package nps_chat to /root/nltk_data...\n",
            "[nltk_data]    |   Package nps_chat is already up-to-date!\n",
            "[nltk_data]    | Downloading package omw to /root/nltk_data...\n",
            "[nltk_data]    |   Package omw is already up-to-date!\n",
            "[nltk_data]    | Downloading package omw-1.4 to /root/nltk_data...\n",
            "[nltk_data]    |   Package omw-1.4 is already up-to-date!\n",
            "[nltk_data]    | Downloading package opinion_lexicon to\n",
            "[nltk_data]    |     /root/nltk_data...\n",
            "[nltk_data]    |   Package opinion_lexicon is already up-to-date!\n",
            "[nltk_data]    | Downloading package panlex_swadesh to\n",
            "[nltk_data]    |     /root/nltk_data...\n",
            "[nltk_data]    |   Package panlex_swadesh is already up-to-date!\n",
            "[nltk_data]    | Downloading package paradigms to /root/nltk_data...\n",
            "[nltk_data]    |   Package paradigms is already up-to-date!\n",
            "[nltk_data]    | Downloading package pe08 to /root/nltk_data...\n",
            "[nltk_data]    |   Package pe08 is already up-to-date!\n",
            "[nltk_data]    | Downloading package perluniprops to\n",
            "[nltk_data]    |     /root/nltk_data...\n",
            "[nltk_data]    |   Package perluniprops is already up-to-date!\n",
            "[nltk_data]    | Downloading package pil to /root/nltk_data...\n",
            "[nltk_data]    |   Package pil is already up-to-date!\n",
            "[nltk_data]    | Downloading package pl196x to /root/nltk_data...\n",
            "[nltk_data]    |   Package pl196x is already up-to-date!\n",
            "[nltk_data]    | Downloading package porter_test to /root/nltk_data...\n",
            "[nltk_data]    |   Package porter_test is already up-to-date!\n",
            "[nltk_data]    | Downloading package ppattach to /root/nltk_data...\n",
            "[nltk_data]    |   Package ppattach is already up-to-date!\n",
            "[nltk_data]    | Downloading package problem_reports to\n",
            "[nltk_data]    |     /root/nltk_data...\n",
            "[nltk_data]    |   Package problem_reports is already up-to-date!\n",
            "[nltk_data]    | Downloading package product_reviews_1 to\n",
            "[nltk_data]    |     /root/nltk_data...\n",
            "[nltk_data]    |   Package product_reviews_1 is already up-to-date!\n",
            "[nltk_data]    | Downloading package product_reviews_2 to\n",
            "[nltk_data]    |     /root/nltk_data...\n",
            "[nltk_data]    |   Package product_reviews_2 is already up-to-date!\n",
            "[nltk_data]    | Downloading package propbank to /root/nltk_data...\n",
            "[nltk_data]    |   Package propbank is already up-to-date!\n",
            "[nltk_data]    | Downloading package pros_cons to /root/nltk_data...\n",
            "[nltk_data]    |   Package pros_cons is already up-to-date!\n",
            "[nltk_data]    | Downloading package ptb to /root/nltk_data...\n",
            "[nltk_data]    |   Package ptb is already up-to-date!\n",
            "[nltk_data]    | Downloading package punkt to /root/nltk_data...\n",
            "[nltk_data]    |   Package punkt is already up-to-date!\n",
            "[nltk_data]    | Downloading package qc to /root/nltk_data...\n",
            "[nltk_data]    |   Package qc is already up-to-date!\n",
            "[nltk_data]    | Downloading package reuters to /root/nltk_data...\n",
            "[nltk_data]    |   Package reuters is already up-to-date!\n",
            "[nltk_data]    | Downloading package rslp to /root/nltk_data...\n",
            "[nltk_data]    |   Package rslp is already up-to-date!\n",
            "[nltk_data]    | Downloading package rte to /root/nltk_data...\n",
            "[nltk_data]    |   Package rte is already up-to-date!\n",
            "[nltk_data]    | Downloading package sample_grammars to\n",
            "[nltk_data]    |     /root/nltk_data...\n",
            "[nltk_data]    |   Package sample_grammars is already up-to-date!\n",
            "[nltk_data]    | Downloading package semcor to /root/nltk_data...\n",
            "[nltk_data]    |   Package semcor is already up-to-date!\n",
            "[nltk_data]    | Downloading package senseval to /root/nltk_data...\n",
            "[nltk_data]    |   Package senseval is already up-to-date!\n",
            "[nltk_data]    | Downloading package sentence_polarity to\n",
            "[nltk_data]    |     /root/nltk_data...\n",
            "[nltk_data]    |   Package sentence_polarity is already up-to-date!\n",
            "[nltk_data]    | Downloading package sentiwordnet to\n",
            "[nltk_data]    |     /root/nltk_data...\n",
            "[nltk_data]    |   Package sentiwordnet is already up-to-date!\n",
            "[nltk_data]    | Downloading package shakespeare to /root/nltk_data...\n",
            "[nltk_data]    |   Package shakespeare is already up-to-date!\n",
            "[nltk_data]    | Downloading package sinica_treebank to\n",
            "[nltk_data]    |     /root/nltk_data...\n",
            "[nltk_data]    |   Package sinica_treebank is already up-to-date!\n",
            "[nltk_data]    | Downloading package smultron to /root/nltk_data...\n",
            "[nltk_data]    |   Package smultron is already up-to-date!\n",
            "[nltk_data]    | Downloading package snowball_data to\n",
            "[nltk_data]    |     /root/nltk_data...\n",
            "[nltk_data]    |   Package snowball_data is already up-to-date!\n",
            "[nltk_data]    | Downloading package spanish_grammars to\n",
            "[nltk_data]    |     /root/nltk_data...\n",
            "[nltk_data]    |   Package spanish_grammars is already up-to-date!\n",
            "[nltk_data]    | Downloading package state_union to /root/nltk_data...\n",
            "[nltk_data]    |   Package state_union is already up-to-date!\n",
            "[nltk_data]    | Downloading package stopwords to /root/nltk_data...\n",
            "[nltk_data]    |   Package stopwords is already up-to-date!\n",
            "[nltk_data]    | Downloading package subjectivity to\n",
            "[nltk_data]    |     /root/nltk_data...\n",
            "[nltk_data]    |   Package subjectivity is already up-to-date!\n",
            "[nltk_data]    | Downloading package swadesh to /root/nltk_data...\n",
            "[nltk_data]    |   Package swadesh is already up-to-date!\n",
            "[nltk_data]    | Downloading package switchboard to /root/nltk_data...\n",
            "[nltk_data]    |   Package switchboard is already up-to-date!\n",
            "[nltk_data]    | Downloading package tagsets to /root/nltk_data...\n",
            "[nltk_data]    |   Package tagsets is already up-to-date!\n",
            "[nltk_data]    | Downloading package timit to /root/nltk_data...\n",
            "[nltk_data]    |   Package timit is already up-to-date!\n",
            "[nltk_data]    | Downloading package toolbox to /root/nltk_data...\n",
            "[nltk_data]    |   Package toolbox is already up-to-date!\n",
            "[nltk_data]    | Downloading package treebank to /root/nltk_data...\n",
            "[nltk_data]    |   Package treebank is already up-to-date!\n",
            "[nltk_data]    | Downloading package twitter_samples to\n",
            "[nltk_data]    |     /root/nltk_data...\n",
            "[nltk_data]    |   Package twitter_samples is already up-to-date!\n",
            "[nltk_data]    | Downloading package udhr to /root/nltk_data...\n",
            "[nltk_data]    |   Package udhr is already up-to-date!\n",
            "[nltk_data]    | Downloading package udhr2 to /root/nltk_data...\n",
            "[nltk_data]    |   Package udhr2 is already up-to-date!\n",
            "[nltk_data]    | Downloading package unicode_samples to\n",
            "[nltk_data]    |     /root/nltk_data...\n",
            "[nltk_data]    |   Package unicode_samples is already up-to-date!\n",
            "[nltk_data]    | Downloading package universal_tagset to\n",
            "[nltk_data]    |     /root/nltk_data...\n",
            "[nltk_data]    |   Package universal_tagset is already up-to-date!\n",
            "[nltk_data]    | Downloading package universal_treebanks_v20 to\n",
            "[nltk_data]    |     /root/nltk_data...\n",
            "[nltk_data]    |   Package universal_treebanks_v20 is already up-to-\n",
            "[nltk_data]    |       date!\n",
            "[nltk_data]    | Downloading package vader_lexicon to\n",
            "[nltk_data]    |     /root/nltk_data...\n",
            "[nltk_data]    |   Package vader_lexicon is already up-to-date!\n",
            "[nltk_data]    | Downloading package verbnet to /root/nltk_data...\n",
            "[nltk_data]    |   Package verbnet is already up-to-date!\n",
            "[nltk_data]    | Downloading package verbnet3 to /root/nltk_data...\n",
            "[nltk_data]    |   Package verbnet3 is already up-to-date!\n",
            "[nltk_data]    | Downloading package webtext to /root/nltk_data...\n",
            "[nltk_data]    |   Package webtext is already up-to-date!\n",
            "[nltk_data]    | Downloading package wmt15_eval to /root/nltk_data...\n",
            "[nltk_data]    |   Package wmt15_eval is already up-to-date!\n",
            "[nltk_data]    | Downloading package word2vec_sample to\n",
            "[nltk_data]    |     /root/nltk_data...\n",
            "[nltk_data]    |   Package word2vec_sample is already up-to-date!\n",
            "[nltk_data]    | Downloading package wordnet to /root/nltk_data...\n",
            "[nltk_data]    |   Package wordnet is already up-to-date!\n",
            "[nltk_data]    | Downloading package wordnet2021 to /root/nltk_data...\n",
            "[nltk_data]    |   Package wordnet2021 is already up-to-date!\n",
            "[nltk_data]    | Downloading package wordnet31 to /root/nltk_data...\n",
            "[nltk_data]    |   Package wordnet31 is already up-to-date!\n",
            "[nltk_data]    | Downloading package wordnet_ic to /root/nltk_data...\n",
            "[nltk_data]    |   Package wordnet_ic is already up-to-date!\n",
            "[nltk_data]    | Downloading package words to /root/nltk_data...\n",
            "[nltk_data]    |   Package words is already up-to-date!\n",
            "[nltk_data]    | Downloading package ycoe to /root/nltk_data...\n",
            "[nltk_data]    |   Package ycoe is already up-to-date!\n",
            "[nltk_data]    | \n",
            "[nltk_data]  Done downloading collection all\n"
          ]
        }
      ]
    },
    {
      "cell_type": "code",
      "source": [
        "sent=\"Marry had a little lamp\""
      ],
      "metadata": {
        "id": "z1CbPDXnD51v"
      },
      "execution_count": 19,
      "outputs": []
    },
    {
      "cell_type": "code",
      "source": [
        "words=word_tokenize(sent)\n",
        "print(nltk.pos_tag(words))"
      ],
      "metadata": {
        "colab": {
          "base_uri": "https://localhost:8080/"
        },
        "id": "BtnumeYXFqXC",
        "outputId": "80979c77-b2f0-4016-ba88-67f704ef44c1"
      },
      "execution_count": 20,
      "outputs": [
        {
          "output_type": "stream",
          "name": "stdout",
          "text": [
            "[('Marry', 'NNP'), ('had', 'VBD'), ('a', 'DT'), ('little', 'JJ'), ('lamp', 'NN')]\n"
          ]
        }
      ]
    },
    {
      "cell_type": "code",
      "source": [
        "for i in words:\n",
        "  print(nltk.pos_tag([i]))"
      ],
      "metadata": {
        "colab": {
          "base_uri": "https://localhost:8080/"
        },
        "id": "JCqIAv8bGjnT",
        "outputId": "bf384a60-3275-4ae4-dd69-49f9bdb8b0f9"
      },
      "execution_count": 21,
      "outputs": [
        {
          "output_type": "stream",
          "name": "stdout",
          "text": [
            "[('Marry', 'NN')]\n",
            "[('had', 'VBD')]\n",
            "[('a', 'DT')]\n",
            "[('little', 'JJ')]\n",
            "[('lamp', 'NN')]\n"
          ]
        }
      ]
    },
    {
      "cell_type": "code",
      "source": [
        "from nltk.corpus import state_union\n",
        "\n",
        "print(state_union.fileids())"
      ],
      "metadata": {
        "colab": {
          "base_uri": "https://localhost:8080/"
        },
        "id": "M-JaUdvvHd4g",
        "outputId": "d27bb2cd-072b-4835-c9e9-311c2db954b9"
      },
      "execution_count": 22,
      "outputs": [
        {
          "output_type": "stream",
          "name": "stdout",
          "text": [
            "['1945-Truman.txt', '1946-Truman.txt', '1947-Truman.txt', '1948-Truman.txt', '1949-Truman.txt', '1950-Truman.txt', '1951-Truman.txt', '1953-Eisenhower.txt', '1954-Eisenhower.txt', '1955-Eisenhower.txt', '1956-Eisenhower.txt', '1957-Eisenhower.txt', '1958-Eisenhower.txt', '1959-Eisenhower.txt', '1960-Eisenhower.txt', '1961-Kennedy.txt', '1962-Kennedy.txt', '1963-Johnson.txt', '1963-Kennedy.txt', '1964-Johnson.txt', '1965-Johnson-1.txt', '1965-Johnson-2.txt', '1966-Johnson.txt', '1967-Johnson.txt', '1968-Johnson.txt', '1969-Johnson.txt', '1970-Nixon.txt', '1971-Nixon.txt', '1972-Nixon.txt', '1973-Nixon.txt', '1974-Nixon.txt', '1975-Ford.txt', '1976-Ford.txt', '1977-Ford.txt', '1978-Carter.txt', '1979-Carter.txt', '1980-Carter.txt', '1981-Reagan.txt', '1982-Reagan.txt', '1983-Reagan.txt', '1984-Reagan.txt', '1985-Reagan.txt', '1986-Reagan.txt', '1987-Reagan.txt', '1988-Reagan.txt', '1989-Bush.txt', '1990-Bush.txt', '1991-Bush-1.txt', '1991-Bush-2.txt', '1992-Bush.txt', '1993-Clinton.txt', '1994-Clinton.txt', '1995-Clinton.txt', '1996-Clinton.txt', '1997-Clinton.txt', '1998-Clinton.txt', '1999-Clinton.txt', '2000-Clinton.txt', '2001-GWBush-1.txt', '2001-GWBush-2.txt', '2002-GWBush.txt', '2003-GWBush.txt', '2004-GWBush.txt', '2005-GWBush.txt', '2006-GWBush.txt']\n"
          ]
        }
      ]
    },
    {
      "cell_type": "code",
      "source": [
        "print(state_union.raw(\"2006-GWBush.txt\"))"
      ],
      "metadata": {
        "colab": {
          "base_uri": "https://localhost:8080/"
        },
        "id": "p_c92XQAHx6j",
        "outputId": "5fdfacc4-dc21-4ef6-b843-11dc646fe4f8"
      },
      "execution_count": 23,
      "outputs": [
        {
          "output_type": "stream",
          "name": "stdout",
          "text": [
            "PRESIDENT GEORGE W. BUSH'S ADDRESS BEFORE A JOINT SESSION OF THE CONGRESS ON THE STATE OF THE UNION\n",
            " \n",
            "January 31, 2006\n",
            "\n",
            "THE PRESIDENT: Thank you all. Mr. Speaker, Vice President Cheney, members of Congress, members of the Supreme Court and diplomatic corps, distinguished guests, and fellow citizens: Today our nation lost a beloved, graceful, courageous woman who called America to its founding ideals and carried on a noble dream. Tonight we are comforted by the hope of a glad reunion with the husband who was taken so long ago, and we are grateful for the good life of Coretta Scott King. (Applause.)\n",
            "\n",
            "President George W. Bush reacts to applause during his State of the Union Address at the Capitol, Tuesday, Jan. 31, 2006. White House photo by Eric DraperEvery time I'm invited to this rostrum, I'm humbled by the privilege, and mindful of the history we've seen together. We have gathered under this Capitol dome in moments of national mourning and national achievement. We have served America through one of the most consequential periods of our history -- and it has been my honor to serve with you.\n",
            "\n",
            "In a system of two parties, two chambers, and two elected branches, there will always be differences and debate. But even tough debates can be conducted in a civil tone, and our differences cannot be allowed to harden into anger. To confront the great issues before us, we must act in a spirit of goodwill and respect for one another -- and I will do my part. Tonight the state of our Union is strong -- and together we will make it stronger. (Applause.)\n",
            "\n",
            "In this decisive year, you and I will make choices that determine both the future and the character of our country. We will choose to act confidently in pursuing the enemies of freedom -- or retreat from our duties in the hope of an easier life. We will choose to build our prosperity by leading the world economy -- or shut ourselves off from trade and opportunity. In a complex and challenging time, the road of isolationism and protectionism may seem broad and inviting -- yet it ends in danger and decline. The only way to protect our people, the only way to secure the peace, the only way to control our destiny is by our leadership -- so the United States of America will continue to lead. (Applause.)\n",
            "\n",
            "Abroad, our nation is committed to an historic, long-term goal -- we seek the end of tyranny in our world. Some dismiss that goal as misguided idealism. In reality, the future security of America depends on it. On September the 11th, 2001, we found that problems originating in a failed and oppressive state 7,000 miles away could bring murder and destruction to our country. Dictatorships shelter terrorists, and feed resentment and radicalism, and seek weapons of mass destruction. Democracies replace resentment with hope, respect the rights of their citizens and their neighbors, and join the fight against terror. Every step toward freedom in the world makes our country safer -- so we will act boldly in freedom's cause. (Applause.)\n",
            "\n",
            "Far from being a hopeless dream, the advance of freedom is the great story of our time. In 1945, there were about two dozen lonely democracies in the world. Today, there are 122. And we're writing a new chapter in the story of self-government -- with women lining up to vote in Afghanistan, and millions of Iraqis marking their liberty with purple ink, and men and women from Lebanon to Egypt debating the rights of individuals and the necessity of freedom. At the start of 2006, more than half the people of our world live in democratic nations. And we do not forget the other half -- in places like Syria and Burma, Zimbabwe, North Korea, and Iran -- because the demands of justice, and the peace of this world, require their freedom, as well. (Applause.)\n",
            "\n",
            "President George W. Bush delivers his State of the Union Address at the Capitol, Tuesday, Jan. 31, 2006. White House photo by Eric Draper No one can deny the success of freedom, but some men rage and fight against it. And one of the main sources of reaction and opposition is radical Islam -- the perversion by a few of a noble faith into an ideology of terror and death. Terrorists like bin Laden are serious about mass murder -- and all of us must take their declared intentions seriously. They seek to impose a heartless system of totalitarian control throughout the Middle East, and arm themselves with weapons of mass murder.\n",
            "\n",
            "Their aim is to seize power in Iraq, and use it as a safe haven to launch attacks against America and the world. Lacking the military strength to challenge us directly, the terrorists have chosen the weapon of fear. When they murder children at a school in Beslan, or blow up commuters in London, or behead a bound captive, the terrorists hope these horrors will break our will, allowing the violent to inherit the Earth. But they have miscalculated: We love our freedom, and we will fight to keep it. (Applause.)\n",
            "\n",
            "In a time of testing, we cannot find security by abandoning our commitments and retreating within our borders. If we were to leave these vicious attackers alone, they would not leave us alone. They would simply move the battlefield to our own shores. There is no peace in retreat. And there is no honor in retreat. By allowing radical Islam to work its will -- by leaving an assaulted world to fend for itself -- we would signal to all that we no longer believe in our own ideals, or even in our own courage. But our enemies and our friends can be certain: The United States will not retreat from the world, and we will never surrender to evil. (Applause.)\n",
            "\n",
            "America rejects the false comfort of isolationism. We are the nation that saved liberty in Europe, and liberated death camps, and helped raise up democracies, and faced down an evil empire. Once again, we accept the call of history to deliver the oppressed and move this world toward peace. We remain on the offensive against terror networks. We have killed or captured many of their leaders -- and for the others, their day will come.\n",
            "\n",
            "President George W. Bush greets members of Congress after his State of the Union Address at the Capitol, Tuesday, Jan. 31, 2006. White House photo by Eric Draper We remain on the offensive in Afghanistan, where a fine President and a National Assembly are fighting terror while building the institutions of a new democracy. We're on the offensive in Iraq, with a clear plan for victory. First, we're helping Iraqis build an inclusive government, so that old resentments will be eased and the insurgency will be marginalized.\n",
            "\n",
            "Second, we're continuing reconstruction efforts, and helping the Iraqi government to fight corruption and build a modern economy, so all Iraqis can experience the benefits of freedom. And, third, we're striking terrorist targets while we train Iraqi forces that are increasingly capable of defeating the enemy. Iraqis are showing their courage every day, and we are proud to be their allies in the cause of freedom. (Applause.)\n",
            "\n",
            "Our work in Iraq is difficult because our enemy is brutal. But that brutality has not stopped the dramatic progress of a new democracy. In less than three years, the nation has gone from dictatorship to liberation, to sovereignty, to a constitution, to national elections. At the same time, our coalition has been relentless in shutting off terrorist infiltration, clearing out insurgent strongholds, and turning over territory to Iraqi security forces. I am confident in our plan for victory; I am confident in the will of the Iraqi people; I am confident in the skill and spirit of our military. Fellow citizens, we are in this fight to win, and we are winning. (Applause.)\n",
            "\n",
            "The road of victory is the road that will take our troops home. As we make progress on the ground, and Iraqi forces increasingly take the lead, we should be able to further decrease our troop levels -- but those decisions will be made by our military commanders, not by politicians in Washington, D.C. (Applause.)\n",
            "\n",
            "Our coalition has learned from our experience in Iraq. We've adjusted our military tactics and changed our approach to reconstruction. Along the way, we have benefitted from responsible criticism and counsel offered by members of Congress of both parties. In the coming year, I will continue to reach out and seek your good advice. Yet, there is a difference between responsible criticism that aims for success, and defeatism that refuses to acknowledge anything but failure. (Applause.) Hindsight alone is not wisdom, and second-guessing is not a strategy. (Applause.)\n",
            "\n",
            "With so much in the balance, those of us in public office have a duty to speak with candor. A sudden withdrawal of our forces from Iraq would abandon our Iraqi allies to death and prison, would put men like bin Laden and Zarqawi in charge of a strategic country, and show that a pledge from America means little. Members of Congress, however we feel about the decisions and debates of the past, our nation has only one option: We must keep our word, defeat our enemies, and stand behind the American military in this vital mission. (Applause.)\n",
            "\n",
            "Laura Bush is applauded as she is introduced Tuesday evening, Jan. 31, 2006 during the State of the Union Address at United States Capitol in Washington. White House photo by Eric Draper Our men and women in uniform are making sacrifices -- and showing a sense of duty stronger than all fear. They know what it's like to fight house to house in a maze of streets, to wear heavy gear in the desert heat, to see a comrade killed by a roadside bomb. And those who know the costs also know the stakes. Marine Staff Sergeant Dan Clay was killed last month fighting in Fallujah. He left behind a letter to his family, but his words could just as well be addressed to every American. Here is what Dan wrote: \"I know what honor is. ... It has been an honor to protect and serve all of you. I faced death with the secure knowledge that you would not have to.... Never falter! Don't hesitate to honor and support those of us who have the honor of protecting that which is worth protecting.\"\n",
            "\n",
            "Staff Sergeant Dan Clay's wife, Lisa, and his mom and dad, Sara Jo and Bud, are with us this evening. Welcome. (Applause.)\n",
            "\n",
            "Our nation is grateful to the fallen, who live in the memory of our country. We're grateful to all who volunteer to wear our nation's uniform -- and as we honor our brave troops, let us never forget the sacrifices of America's military families. (Applause.)\n",
            "\n",
            "Our offensive against terror involves more than military action. Ultimately, the only way to defeat the terrorists is to defeat their dark vision of hatred and fear by offering the hopeful alternative of political freedom and peaceful change. So the United States of America supports democratic reform across the broader Middle East. Elections are vital, but they are only the beginning. Raising up a democracy requires the rule of law, and protection of minorities, and strong, accountable institutions that last longer than a single vote.\n",
            "\n",
            "The great people of Egypt have voted in a multi-party presidential election -- and now their government should open paths of peaceful opposition that will reduce the appeal of radicalism. The Palestinian people have voted in elections. And now the leaders of Hamas must recognize Israel, disarm, reject terrorism, and work for lasting peace. (Applause.) Saudi Arabia has taken the first steps of reform -- now it can offer its people a better future by pressing forward with those efforts. Democracies in the Middle East will not look like our own, because they will reflect the traditions of their own citizens. Yet liberty is the future of every nation in the Middle East, because liberty is the right and hope of all humanity. (Applause.)\n",
            "\n",
            "President George W. Bush waves toward the upper visitors gallery of the House Chamber following his State of the Union remarks Tuesday, Jan. 31, 2006 at the United States Capitol. White House photo by Eric Draper The same is true of Iran, a nation now held hostage by a small clerical elite that is isolating and repressing its people. The regime in that country sponsors terrorists in the Palestinian territories and in Lebanon -- and that must come to an end. (Applause.) The Iranian government is defying the world with its nuclear ambitions, and the nations of the world must not permit the Iranian regime to gain nuclear weapons. (Applause.) America will continue to rally the world to confront these threats.\n",
            "\n",
            "Tonight, let me speak directly to the citizens of Iran: America respects you, and we respect your country. We respect your right to choose your own future and win your own freedom. And our nation hopes one day to be the closest of friends with a free and democratic Iran. (Applause.)\n",
            "\n",
            "To overcome dangers in our world, we must also take the offensive by encouraging economic progress, and fighting disease, and spreading hope in hopeless lands. Isolationism would not only tie our hands in fighting enemies, it would keep us from helping our friends in desperate need. We show compassion abroad because Americans believe in the God-given dignity and worth of a villager with HIV/AIDS, or an infant with malaria, or a refugee fleeing genocide, or a young girl sold into slavery. We also show compassion abroad because regions overwhelmed by poverty, corruption, and despair are sources of terrorism, and organized crime, and human trafficking, and the drug trade.\n",
            "\n",
            "In recent years, you and I have taken unprecedented action to fight AIDS and malaria, expand the education of girls, and reward developing nations that are moving forward with economic and political reform. For people everywhere, the United States is a partner for a better life. Short-changing these efforts would increase the suffering and chaos of our world, undercut our long-term security, and dull the conscience of our country. I urge members of Congress to serve the interests of America by showing the compassion of America.\n",
            "\n",
            "Our country must also remain on the offensive against terrorism here at home. The enemy has not lost the desire or capability to attack us. Fortunately, this nation has superb professionals in law enforcement, intelligence, the military, and homeland security. These men and women are dedicating their lives, protecting us all, and they deserve our support and our thanks. (Applause.) They also deserve the same tools they already use to fight drug trafficking and organized crime -- so I ask you to reauthorize the Patriot Act. (Applause.)\n",
            "\n",
            "It is said that prior to the attacks of September the 11th, our government failed to connect the dots of the conspiracy. We now know that two of the hijackers in the United States placed telephone calls to al Qaeda operatives overseas. But we did not know about their plans until it was too late. So to prevent another attack -- based on authority given to me by the Constitution and by statute -- I have authorized a terrorist surveillance program to aggressively pursue the international communications of suspected al Qaeda operatives and affiliates to and from America. Previous Presidents have used the same constitutional authority I have, and federal courts have approved the use of that authority. Appropriate members of Congress have been kept informed. The terrorist surveillance program has helped prevent terrorist attacks. It remains essential to the security of America. If there are people inside our country who are talking with al Qaeda, we want to know about it, because we will not sit back and wait to be hit again. (Applause.)\n",
            "\n",
            "In all these areas -- from the disruption of terror networks, to victory in Iraq, to the spread of freedom and hope in troubled regions -- we need the support of our friends and allies. To draw that support, we must always be clear in our principles and willing to act. The only alternative to American leadership is a dramatically more dangerous and anxious world. Yet we also choose to lead because it is a privilege to serve the values that gave us birth. American leaders -- from Roosevelt to Truman to Kennedy to Reagan -- rejected isolation and retreat, because they knew that America is always more secure when freedom is on the march.\n",
            "\n",
            "Our own generation is in a long war against a determined enemy -- a war that will be fought by Presidents of both parties, who will need steady bipartisan support from the Congress. And tonight I ask for yours. Together, let us protect our country, support the men and women who defend us, and lead this world toward freedom. (Applause.)\n",
            "\n",
            "Here at home, America also has a great opportunity: We will build the prosperity of our country by strengthening our economic leadership in the world.\n",
            "\n",
            "Our economy is healthy and vigorous, and growing faster than other major industrialized nations. In the last two-and-a-half years, America has created 4.6 million new jobs -- more than Japan and the European Union combined. (Applause.) Even in the face of higher energy prices and natural disasters, the American people have turned in an economic performance that is the envy of the world.\n",
            "\n",
            "The American economy is preeminent, but we cannot afford to be complacent. In a dynamic world economy, we are seeing new competitors, like China and India, and this creates uncertainty, which makes it easier to feed people's fears. So we're seeing some old temptations return. Protectionists want to escape competition, pretending that we can keep our high standard of living while walling off our economy. Others say that the government needs to take a larger role in directing the economy, centralizing more power in Washington and increasing taxes. We hear claims that immigrants are somehow bad for the economy -- even though this economy could not function without them. (Applause.) All these are forms of economic retreat, and they lead in the same direction -- toward a stagnant and second-rate economy.\n",
            "\n",
            "Tonight I will set out a better path: an agenda for a nation that competes with confidence; an agenda that will raise standards of living and generate new jobs. Americans should not fear our economic future, because we intend to shape it.\n",
            "\n",
            "Keeping America competitive begins with keeping our economy growing. And our economy grows when Americans have more of their own money to spend, save, and invest. In the last five years, the tax relief you passed has left $880 billion in the hands of American workers, investors, small businesses, and families -- and they have used it to help produce more than four years of uninterrupted economic growth. (Applause.) Yet the tax relief is set to expire in the next few years. If we do nothing, American families will face a massive tax increase they do not expect and will not welcome. Because America needs more than a temporary expansion, we need more than temporary tax relief. I urge the Congress to act responsibly, and make the tax cuts permanent. (Applause.)\n",
            "\n",
            "Keeping America competitive requires us to be good stewards of tax dollars. Every year of my presidency, we've reduced the growth of non-security discretionary spending, and last year you passed bills that cut this spending. This year my budget will cut it again, and reduce or eliminate more than 140 programs that are performing poorly or not fulfilling essential priorities. By passing these reforms, we will save the American taxpayer another $14 billion next year, and stay on track to cut the deficit in half by 2009. (Applause.)\n",
            "\n",
            "I am pleased that members of Congress are working on earmark reform, because the federal budget has too many special interest projects. (Applause.) And we can tackle this problem together, if you pass the line-item veto. (Applause.)\n",
            "\n",
            "We must also confront the larger challenge of mandatory spending, or entitlements. This year, the first of about 78 million baby boomers turn 60, including two of my Dad's favorite people -- me and President Clinton. (Laughter.) This milestone is more than a personal crisis -- (laughter) -- it is a national challenge. The retirement of the baby boom generation will put unprecedented strains on the federal government. By 2030, spending for Social Security, Medicare and Medicaid alone will be almost 60 percent of the entire federal budget. And that will present future Congresses with impossible choices -- staggering tax increases, immense deficits, or deep cuts in every category of spending. Congress did not act last year on my proposal to save Social Security -- (applause) -- yet the rising cost of entitlements is a problem that is not going away. (Applause.) And every year we fail to act, the situation gets worse.\n",
            "\n",
            "So tonight, I ask you to join me in creating a commission to examine the full impact of baby boom retirements on Social Security, Medicare, and Medicaid. This commission should include members of Congress of both parties, and offer bipartisan solutions. We need to put aside partisan politics and work together and get this problem solved. (Applause.)\n",
            "\n",
            "Keeping America competitive requires us to open more markets for all that Americans make and grow. One out of every five factory jobs in America is related to global trade, and we want people everywhere to buy American. With open markets and a level playing field, no one can out-produce or out-compete the American worker. (Applause.)\n",
            "\n",
            "Keeping America competitive requires an immigration system that upholds our laws, reflects our values, and serves the interests of our economy. Our nation needs orderly and secure borders. (Applause.) To meet this goal, we must have stronger immigration enforcement and border protection. (Applause.) And we must have a rational, humane guest worker program that rejects amnesty, allows temporary jobs for people who seek them legally, and reduces smuggling and crime at the border. (Applause.)\n",
            "\n",
            "Keeping America competitive requires affordable health care. (Applause.) Our government has a responsibility to provide health care for the poor and the elderly, and we are meeting that responsibility. (Applause.) For all Americans -- for all Americans, we must confront the rising cost of care, strengthen the doctor-patient relationship, and help people afford the insurance coverage they need. (Applause.)\n",
            "\n",
            "We will make wider use of electronic records and other health information technology, to help control costs and reduce dangerous medical errors. We will strengthen health savings accounts -- making sure individuals and small business employees can buy insurance with the same advantages that people working for big businesses now get. (Applause.) We will do more to make this coverage portable, so workers can switch jobs without having to worry about losing their health insurance. (Applause.) And because lawsuits are driving many good doctors out of practice -- leaving women in nearly 1,500 American counties without a single OB/GYN -- I ask the Congress to pass medical liability reform this year. (Applause.)\n",
            "\n",
            "Keeping America competitive requires affordable energy. And here we have a serious problem: America is addicted to oil, which is often imported from unstable parts of the world. The best way to break this addiction is through technology. Since 2001, we have spent nearly $10 billion to develop cleaner, cheaper, and more reliable alternative energy sources -- and we are on the threshold of incredible advances.\n",
            "\n",
            "So tonight, I announce the Advanced Energy Initiative -- a 22-percent increase in clean-energy research -- at the Department of Energy, to push for breakthroughs in two vital areas. To change how we power our homes and offices, we will invest more in zero-emission coal-fired plants, revolutionary solar and wind technologies, and clean, safe nuclear energy. (Applause.)\n",
            "\n",
            "We must also change how we power our automobiles. We will increase our research in better batteries for hybrid and electric cars, and in pollution-free cars that run on hydrogen. We'll also fund additional research in cutting-edge methods of producing ethanol, not just from corn, but from wood chips and stalks, or switch grass. Our goal is to make this new kind of ethanol practical and competitive within six years. (Applause.)\n",
            "\n",
            "Breakthroughs on this and other new technologies will help us reach another great goal: to replace more than 75 percent of our oil imports from the Middle East by 2025. (Applause.) By applying the talent and technology of America, this country can dramatically improve our environment, move beyond a petroleum-based economy, and make our dependence on Middle Eastern oil a thing of the past. (Applause.)\n",
            "\n",
            "And to keep America competitive, one commitment is necessary above all: We must continue to lead the world in human talent and creativity. Our greatest advantage in the world has always been our educated, hardworking, ambitious people -- and we're going to keep that edge. Tonight I announce an American Competitiveness Initiative, to encourage innovation throughout our economy, and to give our nation's children a firm grounding in math and science. (Applause.)\n",
            "\n",
            "First, I propose to double the federal commitment to the most critical basic research programs in the physical sciences over the next 10 years. This funding will support the work of America's most creative minds as they explore promising areas such as nanotechnology, supercomputing, and alternative energy sources.\n",
            "\n",
            "Second, I propose to make permanent the research and development tax credit -- (applause) -- to encourage bolder private-sector initiatives in technology. With more research in both the public and private sectors, we will improve our quality of life -- and ensure that America will lead the world in opportunity and innovation for decades to come. (Applause.)\n",
            "\n",
            "Third, we need to encourage children to take more math and science, and to make sure those courses are rigorous enough to compete with other nations. We've made a good start in the early grades with the No Child Left Behind Act, which is raising standards and lifting test scores across our country. Tonight I propose to train 70,000 high school teachers to lead advanced-placement courses in math and science, bring 30,000 math and science professionals to teach in classrooms, and give early help to students who struggle with math, so they have a better chance at good, high-wage jobs. If we ensure that America's children succeed in life, they will ensure that America succeeds in the world. (Applause.)\n",
            "\n",
            "Preparing our nation to compete in the world is a goal that all of us can share. I urge you to support the American Competitiveness Initiative, and together we will show the world what the American people can achieve.\n",
            "\n",
            "America is a great force for freedom and prosperity. Yet our greatness is not measured in power or luxuries, but by who we are and how we treat one another. So we strive to be a compassionate, decent, hopeful society.\n",
            "\n",
            "In recent years, America has become a more hopeful nation. Violent crime rates have fallen to their lowest levels since the 1970s. Welfare cases have dropped by more than half over the past decade. Drug use among youth is down 19 percent since 2001. There are fewer abortions in America than at any point in the last three decades, and the number of children born to teenage mothers has been falling for a dozen years in a row. (Applause.)\n",
            "\n",
            "These gains are evidence of a quiet transformation -- a revolution of conscience, in which a rising generation is finding that a life of personal responsibility is a life of fulfillment. Government has played a role. Wise policies, such as welfare reform and drug education and support for abstinence and adoption have made a difference in the character of our country. And everyone here tonight, Democrat and Republican, has a right to be proud of this record. (Applause.)\n",
            "\n",
            "Yet many Americans, especially parents, still have deep concerns about the direction of our culture, and the health of our most basic institutions. They're concerned about unethical conduct by public officials, and discouraged by activist courts that try to redefine marriage. They worry about children in our society who need direction and love, and about fellow citizens still displaced by natural disaster, and about suffering caused by treatable diseases.\n",
            "\n",
            "As we look at these challenges, we must never give in to the belief that America is in decline, or that our culture is doomed to unravel. The American people know better than that. We have proven the pessimists wrong before -- and we will do it again. (Applause.)\n",
            "\n",
            "A hopeful society depends on courts that deliver equal justice under the law. The Supreme Court now has two superb new members -- new members on its bench: Chief Justice John Roberts and Justice Sam Alito. (Applause.) I thank the Senate for confirming both of them. I will continue to nominate men and women who understand that judges must be servants of the law, and not legislate from the bench. (Applause.)\n",
            "\n",
            "Today marks the official retirement of a very special American. For 24 years of faithful service to our nation, the United States is grateful to Justice Sandra Day O'Connor. (Applause.)\n",
            "\n",
            "A hopeful society has institutions of science and medicine that do not cut ethical corners, and that recognize the matchless value of every life. Tonight I ask you to pass legislation to prohibit the most egregious abuses of medical research: human cloning in all its forms, creating or implanting embryos for experiments, creating human-animal hybrids, and buying, selling, or patenting human embryos. Human life is a gift from our Creator -- and that gift should never be discarded, devalued or put up for sale. (Applause.)\n",
            "\n",
            "A hopeful society expects elected officials to uphold the public trust. (Applause.) Honorable people in both parties are working on reforms to strengthen the ethical standards of Washington -- I support your efforts. Each of us has made a pledge to be worthy of public responsibility -- and that is a pledge we must never forget, never dismiss, and never betray. (Applause.)\n",
            "\n",
            "As we renew the promise of our institutions, let us also show the character of America in our compassion and care for one another.\n",
            "\n",
            "A hopeful society gives special attention to children who lack direction and love. Through the Helping America's Youth Initiative, we are encouraging caring adults to get involved in the life of a child -- and this good work is being led by our First Lady, Laura Bush. (Applause.) This year we will add resources to encourage young people to stay in school, so more of America's youth can raise their sights and achieve their dreams.\n",
            "\n",
            "A hopeful society comes to the aid of fellow citizens in times of suffering and emergency -- and stays at it until they're back on their feet. So far the federal government has committed $85 billion to the people of the Gulf Coast and New Orleans. We're removing debris and repairing highways and rebuilding stronger levees. We're providing business loans and housing assistance. Yet as we meet these immediate needs, we must also address deeper challenges that existed before the storm arrived.\n",
            "\n",
            "In New Orleans and in other places, many of our fellow citizens have felt excluded from the promise of our country. The answer is not only temporary relief, but schools that teach every child, and job skills that bring upward mobility, and more opportunities to own a home and start a business. As we recover from a disaster, let us also work for the day when all Americans are protected by justice, equal in hope, and rich in opportunity. (Applause.)\n",
            "\n",
            "A hopeful society acts boldly to fight diseases like HIV/AIDS, which can be prevented, and treated, and defeated. More than a million Americans live with HIV, and half of all AIDS cases occur among African Americans. I ask Congress to reform and reauthorize the Ryan White Act, and provide new funding to states, so we end the waiting lists for AIDS medicines in America. (Applause.) We will also lead a nationwide effort, working closely with African American churches and faith-based groups, to deliver rapid HIV tests to millions, end the stigma of AIDS, and come closer to the day when there are no new infections in America. (Applause.)\n",
            "\n",
            "Fellow citizens, we've been called to leadership in a period of consequence. We've entered a great ideological conflict we did nothing to invite. We see great changes in science and commerce that will influence all our lives. Sometimes it can seem that history is turning in a wide arc, toward an unknown shore. Yet the destination of history is determined by human action, and every great movement of history comes to a point of choosing.\n",
            "\n",
            "Lincoln could have accepted peace at the cost of disunity and continued slavery. Martin Luther King could have stopped at Birmingham or at Selma, and achieved only half a victory over segregation. The United States could have accepted the permanent division of Europe, and been complicit in the oppression of others. Today, having come far in our own historical journey, we must decide: Will we turn back, or finish well?\n",
            "\n",
            "Before history is written down in books, it is written in courage. Like Americans before us, we will show that courage and we will finish well. We will lead freedom's advance. We will compete and excel in the global economy. We will renew the defining moral commitments of this land. And so we move forward -- optimistic about our country, faithful to its cause, and confident of the victories to come.\n",
            "\n",
            "May God bless America. (Applause.)\n",
            "\n"
          ]
        }
      ]
    },
    {
      "cell_type": "code",
      "source": [
        "from nltk import sent_tokenize"
      ],
      "metadata": {
        "id": "tCjHy4plHy8J"
      },
      "execution_count": 24,
      "outputs": []
    },
    {
      "cell_type": "code",
      "source": [
        "sent_tokens=sent_tokenize(state_union.raw(\"2006-GWBush.txt\"))\n",
        "for i in sent_tokens:\n",
        "  print(nltk.pos_tag([i]))"
      ],
      "metadata": {
        "colab": {
          "base_uri": "https://localhost:8080/"
        },
        "id": "2Zbnc6lWH1TD",
        "outputId": "eb3c1084-1519-4335-a5d4-cb91792faf2e"
      },
      "execution_count": 25,
      "outputs": [
        {
          "output_type": "stream",
          "name": "stdout",
          "text": [
            "[(\"PRESIDENT GEORGE W. BUSH'S ADDRESS BEFORE A JOINT SESSION OF THE CONGRESS ON THE STATE OF THE UNION\\n \\nJanuary 31, 2006\\n\\nTHE PRESIDENT: Thank you all.\", 'NN')]\n",
            "[('Mr. Speaker, Vice President Cheney, members of Congress, members of the Supreme Court and diplomatic corps, distinguished guests, and fellow citizens: Today our nation lost a beloved, graceful, courageous woman who called America to its founding ideals and carried on a noble dream.', 'NN')]\n",
            "[('Tonight we are comforted by the hope of a glad reunion with the husband who was taken so long ago, and we are grateful for the good life of Coretta Scott King.', 'NN')]\n",
            "[('(Applause.)', 'NN')]\n",
            "[('President George W. Bush reacts to applause during his State of the Union Address at the Capitol, Tuesday, Jan. 31, 2006.', 'NN')]\n",
            "[(\"White House photo by Eric DraperEvery time I'm invited to this rostrum, I'm humbled by the privilege, and mindful of the history we've seen together.\", 'NN')]\n",
            "[('We have gathered under this Capitol dome in moments of national mourning and national achievement.', 'NN')]\n",
            "[('We have served America through one of the most consequential periods of our history -- and it has been my honor to serve with you.', 'JJ')]\n",
            "[('In a system of two parties, two chambers, and two elected branches, there will always be differences and debate.', 'NN')]\n",
            "[('But even tough debates can be conducted in a civil tone, and our differences cannot be allowed to harden into anger.', 'NN')]\n",
            "[('To confront the great issues before us, we must act in a spirit of goodwill and respect for one another -- and I will do my part.', 'NN')]\n",
            "[('Tonight the state of our Union is strong -- and together we will make it stronger.', 'NN')]\n",
            "[('(Applause.)', 'NN')]\n",
            "[('In this decisive year, you and I will make choices that determine both the future and the character of our country.', 'NN')]\n",
            "[('We will choose to act confidently in pursuing the enemies of freedom -- or retreat from our duties in the hope of an easier life.', 'JJ')]\n",
            "[('We will choose to build our prosperity by leading the world economy -- or shut ourselves off from trade and opportunity.', 'JJ')]\n",
            "[('In a complex and challenging time, the road of isolationism and protectionism may seem broad and inviting -- yet it ends in danger and decline.', 'NN')]\n",
            "[('The only way to protect our people, the only way to secure the peace, the only way to control our destiny is by our leadership -- so the United States of America will continue to lead.', 'NN')]\n",
            "[('(Applause.)', 'NN')]\n",
            "[('Abroad, our nation is committed to an historic, long-term goal -- we seek the end of tyranny in our world.', 'JJ')]\n",
            "[('Some dismiss that goal as misguided idealism.', 'NN')]\n",
            "[('In reality, the future security of America depends on it.', 'NN')]\n",
            "[('On September the 11th, 2001, we found that problems originating in a failed and oppressive state 7,000 miles away could bring murder and destruction to our country.', 'NN')]\n",
            "[('Dictatorships shelter terrorists, and feed resentment and radicalism, and seek weapons of mass destruction.', 'NN')]\n",
            "[('Democracies replace resentment with hope, respect the rights of their citizens and their neighbors, and join the fight against terror.', 'NN')]\n",
            "[(\"Every step toward freedom in the world makes our country safer -- so we will act boldly in freedom's cause.\", 'NN')]\n",
            "[('(Applause.)', 'NN')]\n",
            "[('Far from being a hopeless dream, the advance of freedom is the great story of our time.', 'NN')]\n",
            "[('In 1945, there were about two dozen lonely democracies in the world.', 'NN')]\n",
            "[('Today, there are 122.', 'NN')]\n",
            "[(\"And we're writing a new chapter in the story of self-government -- with women lining up to vote in Afghanistan, and millions of Iraqis marking their liberty with purple ink, and men and women from Lebanon to Egypt debating the rights of individuals and the necessity of freedom.\", 'JJ')]\n",
            "[('At the start of 2006, more than half the people of our world live in democratic nations.', 'NN')]\n",
            "[('And we do not forget the other half -- in places like Syria and Burma, Zimbabwe, North Korea, and Iran -- because the demands of justice, and the peace of this world, require their freedom, as well.', 'JJ')]\n",
            "[('(Applause.)', 'NN')]\n",
            "[('President George W. Bush delivers his State of the Union Address at the Capitol, Tuesday, Jan. 31, 2006.', 'NN')]\n",
            "[('White House photo by Eric Draper No one can deny the success of freedom, but some men rage and fight against it.', 'NN')]\n",
            "[('And one of the main sources of reaction and opposition is radical Islam -- the perversion by a few of a noble faith into an ideology of terror and death.', 'JJ')]\n",
            "[('Terrorists like bin Laden are serious about mass murder -- and all of us must take their declared intentions seriously.', 'NN')]\n",
            "[('They seek to impose a heartless system of totalitarian control throughout the Middle East, and arm themselves with weapons of mass murder.', 'NN')]\n",
            "[('Their aim is to seize power in Iraq, and use it as a safe haven to launch attacks against America and the world.', 'NN')]\n",
            "[('Lacking the military strength to challenge us directly, the terrorists have chosen the weapon of fear.', 'NN')]\n",
            "[('When they murder children at a school in Beslan, or blow up commuters in London, or behead a bound captive, the terrorists hope these horrors will break our will, allowing the violent to inherit the Earth.', 'NN')]\n",
            "[('But they have miscalculated: We love our freedom, and we will fight to keep it.', 'NN')]\n",
            "[('(Applause.)', 'NN')]\n",
            "[('In a time of testing, we cannot find security by abandoning our commitments and retreating within our borders.', 'NN')]\n",
            "[('If we were to leave these vicious attackers alone, they would not leave us alone.', 'NN')]\n",
            "[('They would simply move the battlefield to our own shores.', 'NN')]\n",
            "[('There is no peace in retreat.', 'NN')]\n",
            "[('And there is no honor in retreat.', 'NN')]\n",
            "[('By allowing radical Islam to work its will -- by leaving an assaulted world to fend for itself -- we would signal to all that we no longer believe in our own ideals, or even in our own courage.', 'NN')]\n",
            "[('But our enemies and our friends can be certain: The United States will not retreat from the world, and we will never surrender to evil.', 'NN')]\n",
            "[('(Applause.)', 'NN')]\n",
            "[('America rejects the false comfort of isolationism.', 'NN')]\n",
            "[('We are the nation that saved liberty in Europe, and liberated death camps, and helped raise up democracies, and faced down an evil empire.', 'NN')]\n",
            "[('Once again, we accept the call of history to deliver the oppressed and move this world toward peace.', 'NN')]\n",
            "[('We remain on the offensive against terror networks.', 'NN')]\n",
            "[('We have killed or captured many of their leaders -- and for the others, their day will come.', 'JJ')]\n",
            "[('President George W. Bush greets members of Congress after his State of the Union Address at the Capitol, Tuesday, Jan. 31, 2006.', 'NN')]\n",
            "[('White House photo by Eric Draper We remain on the offensive in Afghanistan, where a fine President and a National Assembly are fighting terror while building the institutions of a new democracy.', 'NN')]\n",
            "[(\"We're on the offensive in Iraq, with a clear plan for victory.\", 'NN')]\n",
            "[(\"First, we're helping Iraqis build an inclusive government, so that old resentments will be eased and the insurgency will be marginalized.\", 'NN')]\n",
            "[(\"Second, we're continuing reconstruction efforts, and helping the Iraqi government to fight corruption and build a modern economy, so all Iraqis can experience the benefits of freedom.\", 'NN')]\n",
            "[(\"And, third, we're striking terrorist targets while we train Iraqi forces that are increasingly capable of defeating the enemy.\", 'NN')]\n",
            "[('Iraqis are showing their courage every day, and we are proud to be their allies in the cause of freedom.', 'NN')]\n",
            "[('(Applause.)', 'NN')]\n",
            "[('Our work in Iraq is difficult because our enemy is brutal.', 'NN')]\n",
            "[('But that brutality has not stopped the dramatic progress of a new democracy.', 'NN')]\n",
            "[('In less than three years, the nation has gone from dictatorship to liberation, to sovereignty, to a constitution, to national elections.', 'NN')]\n",
            "[('At the same time, our coalition has been relentless in shutting off terrorist infiltration, clearing out insurgent strongholds, and turning over territory to Iraqi security forces.', 'NN')]\n",
            "[('I am confident in our plan for victory; I am confident in the will of the Iraqi people; I am confident in the skill and spirit of our military.', 'NN')]\n",
            "[('Fellow citizens, we are in this fight to win, and we are winning.', 'NN')]\n",
            "[('(Applause.)', 'NN')]\n",
            "[('The road of victory is the road that will take our troops home.', 'NN')]\n",
            "[('As we make progress on the ground, and Iraqi forces increasingly take the lead, we should be able to further decrease our troop levels -- but those decisions will be made by our military commanders, not by politicians in Washington, D.C.', 'JJ')]\n",
            "[('(Applause.)', 'NN')]\n",
            "[('Our coalition has learned from our experience in Iraq.', 'NN')]\n",
            "[(\"We've adjusted our military tactics and changed our approach to reconstruction.\", 'NN')]\n",
            "[('Along the way, we have benefitted from responsible criticism and counsel offered by members of Congress of both parties.', 'NN')]\n",
            "[('In the coming year, I will continue to reach out and seek your good advice.', 'NN')]\n",
            "[('Yet, there is a difference between responsible criticism that aims for success, and defeatism that refuses to acknowledge anything but failure.', 'NN')]\n",
            "[('(Applause.)', 'NN')]\n",
            "[('Hindsight alone is not wisdom, and second-guessing is not a strategy.', 'NN')]\n",
            "[('(Applause.)', 'NN')]\n",
            "[('With so much in the balance, those of us in public office have a duty to speak with candor.', 'NN')]\n",
            "[('A sudden withdrawal of our forces from Iraq would abandon our Iraqi allies to death and prison, would put men like bin Laden and Zarqawi in charge of a strategic country, and show that a pledge from America means little.', 'NN')]\n",
            "[('Members of Congress, however we feel about the decisions and debates of the past, our nation has only one option: We must keep our word, defeat our enemies, and stand behind the American military in this vital mission.', 'NN')]\n",
            "[('(Applause.)', 'NN')]\n",
            "[('Laura Bush is applauded as she is introduced Tuesday evening, Jan. 31, 2006 during the State of the Union Address at United States Capitol in Washington.', 'NN')]\n",
            "[('White House photo by Eric Draper Our men and women in uniform are making sacrifices -- and showing a sense of duty stronger than all fear.', 'JJ')]\n",
            "[(\"They know what it's like to fight house to house in a maze of streets, to wear heavy gear in the desert heat, to see a comrade killed by a roadside bomb.\", 'NN')]\n",
            "[('And those who know the costs also know the stakes.', 'NN')]\n",
            "[('Marine Staff Sergeant Dan Clay was killed last month fighting in Fallujah.', 'NN')]\n",
            "[('He left behind a letter to his family, but his words could just as well be addressed to every American.', 'NNP')]\n",
            "[('Here is what Dan wrote: \"I know what honor is.', 'NN')]\n",
            "[('...', ':')]\n",
            "[('It has been an honor to protect and serve all of you.', 'NN')]\n",
            "[('I faced death with the secure knowledge that you would not have to.... Never falter!', 'NN')]\n",
            "[('Don\\'t hesitate to honor and support those of us who have the honor of protecting that which is worth protecting.\"', 'NN')]\n",
            "[(\"Staff Sergeant Dan Clay's wife, Lisa, and his mom and dad, Sara Jo and Bud, are with us this evening.\", 'NN')]\n",
            "[('Welcome.', 'NN')]\n",
            "[('(Applause.)', 'NN')]\n",
            "[('Our nation is grateful to the fallen, who live in the memory of our country.', 'NN')]\n",
            "[(\"We're grateful to all who volunteer to wear our nation's uniform -- and as we honor our brave troops, let us never forget the sacrifices of America's military families.\", 'JJ')]\n",
            "[('(Applause.)', 'NN')]\n",
            "[('Our offensive against terror involves more than military action.', 'NN')]\n",
            "[('Ultimately, the only way to defeat the terrorists is to defeat their dark vision of hatred and fear by offering the hopeful alternative of political freedom and peaceful change.', 'NN')]\n",
            "[('So the United States of America supports democratic reform across the broader Middle East.', 'NN')]\n",
            "[('Elections are vital, but they are only the beginning.', 'NN')]\n",
            "[('Raising up a democracy requires the rule of law, and protection of minorities, and strong, accountable institutions that last longer than a single vote.', 'NN')]\n",
            "[('The great people of Egypt have voted in a multi-party presidential election -- and now their government should open paths of peaceful opposition that will reduce the appeal of radicalism.', 'NN')]\n",
            "[('The Palestinian people have voted in elections.', 'NN')]\n",
            "[('And now the leaders of Hamas must recognize Israel, disarm, reject terrorism, and work for lasting peace.', 'NN')]\n",
            "[('(Applause.)', 'NN')]\n",
            "[('Saudi Arabia has taken the first steps of reform -- now it can offer its people a better future by pressing forward with those efforts.', 'NN')]\n",
            "[('Democracies in the Middle East will not look like our own, because they will reflect the traditions of their own citizens.', 'NN')]\n",
            "[('Yet liberty is the future of every nation in the Middle East, because liberty is the right and hope of all humanity.', 'NN')]\n",
            "[('(Applause.)', 'NN')]\n",
            "[('President George W. Bush waves toward the upper visitors gallery of the House Chamber following his State of the Union remarks Tuesday, Jan. 31, 2006 at the United States Capitol.', 'NN')]\n",
            "[('White House photo by Eric Draper The same is true of Iran, a nation now held hostage by a small clerical elite that is isolating and repressing its people.', 'NN')]\n",
            "[('The regime in that country sponsors terrorists in the Palestinian territories and in Lebanon -- and that must come to an end.', 'NN')]\n",
            "[('(Applause.)', 'NN')]\n",
            "[('The Iranian government is defying the world with its nuclear ambitions, and the nations of the world must not permit the Iranian regime to gain nuclear weapons.', 'NN')]\n",
            "[('(Applause.)', 'NN')]\n",
            "[('America will continue to rally the world to confront these threats.', 'NN')]\n",
            "[('Tonight, let me speak directly to the citizens of Iran: America respects you, and we respect your country.', 'NN')]\n",
            "[('We respect your right to choose your own future and win your own freedom.', 'NN')]\n",
            "[('And our nation hopes one day to be the closest of friends with a free and democratic Iran.', 'NNP')]\n",
            "[('(Applause.)', 'NN')]\n",
            "[('To overcome dangers in our world, we must also take the offensive by encouraging economic progress, and fighting disease, and spreading hope in hopeless lands.', 'NN')]\n",
            "[('Isolationism would not only tie our hands in fighting enemies, it would keep us from helping our friends in desperate need.', 'NN')]\n",
            "[('We show compassion abroad because Americans believe in the God-given dignity and worth of a villager with HIV/AIDS, or an infant with malaria, or a refugee fleeing genocide, or a young girl sold into slavery.', 'JJ')]\n",
            "[('We also show compassion abroad because regions overwhelmed by poverty, corruption, and despair are sources of terrorism, and organized crime, and human trafficking, and the drug trade.', 'NN')]\n",
            "[('In recent years, you and I have taken unprecedented action to fight AIDS and malaria, expand the education of girls, and reward developing nations that are moving forward with economic and political reform.', 'NN')]\n",
            "[('For people everywhere, the United States is a partner for a better life.', 'NN')]\n",
            "[('Short-changing these efforts would increase the suffering and chaos of our world, undercut our long-term security, and dull the conscience of our country.', 'NN')]\n",
            "[('I urge members of Congress to serve the interests of America by showing the compassion of America.', 'NN')]\n",
            "[('Our country must also remain on the offensive against terrorism here at home.', 'NN')]\n",
            "[('The enemy has not lost the desire or capability to attack us.', 'NN')]\n",
            "[('Fortunately, this nation has superb professionals in law enforcement, intelligence, the military, and homeland security.', 'NN')]\n",
            "[('These men and women are dedicating their lives, protecting us all, and they deserve our support and our thanks.', 'NN')]\n",
            "[('(Applause.)', 'NN')]\n",
            "[('They also deserve the same tools they already use to fight drug trafficking and organized crime -- so I ask you to reauthorize the Patriot Act.', 'NN')]\n",
            "[('(Applause.)', 'NN')]\n",
            "[('It is said that prior to the attacks of September the 11th, our government failed to connect the dots of the conspiracy.', 'NN')]\n",
            "[('We now know that two of the hijackers in the United States placed telephone calls to al Qaeda operatives overseas.', 'NN')]\n",
            "[('But we did not know about their plans until it was too late.', 'NN')]\n",
            "[('So to prevent another attack -- based on authority given to me by the Constitution and by statute -- I have authorized a terrorist surveillance program to aggressively pursue the international communications of suspected al Qaeda operatives and affiliates to and from America.', 'NN')]\n",
            "[('Previous Presidents have used the same constitutional authority I have, and federal courts have approved the use of that authority.', 'NN')]\n",
            "[('Appropriate members of Congress have been kept informed.', 'NN')]\n",
            "[('The terrorist surveillance program has helped prevent terrorist attacks.', 'NN')]\n",
            "[('It remains essential to the security of America.', 'NN')]\n",
            "[('If there are people inside our country who are talking with al Qaeda, we want to know about it, because we will not sit back and wait to be hit again.', 'NN')]\n",
            "[('(Applause.)', 'NN')]\n",
            "[('In all these areas -- from the disruption of terror networks, to victory in Iraq, to the spread of freedom and hope in troubled regions -- we need the support of our friends and allies.', 'NN')]\n",
            "[('To draw that support, we must always be clear in our principles and willing to act.', 'NN')]\n",
            "[('The only alternative to American leadership is a dramatically more dangerous and anxious world.', 'NN')]\n",
            "[('Yet we also choose to lead because it is a privilege to serve the values that gave us birth.', 'NN')]\n",
            "[('American leaders -- from Roosevelt to Truman to Kennedy to Reagan -- rejected isolation and retreat, because they knew that America is always more secure when freedom is on the march.', 'JJ')]\n",
            "[('Our own generation is in a long war against a determined enemy -- a war that will be fought by Presidents of both parties, who will need steady bipartisan support from the Congress.', 'NN')]\n",
            "[('And tonight I ask for yours.', 'NN')]\n",
            "[('Together, let us protect our country, support the men and women who defend us, and lead this world toward freedom.', 'NN')]\n",
            "[('(Applause.)', 'NN')]\n",
            "[('Here at home, America also has a great opportunity: We will build the prosperity of our country by strengthening our economic leadership in the world.', 'NN')]\n",
            "[('Our economy is healthy and vigorous, and growing faster than other major industrialized nations.', 'NN')]\n",
            "[('In the last two-and-a-half years, America has created 4.6 million new jobs -- more than Japan and the European Union combined.', 'NN')]\n",
            "[('(Applause.)', 'NN')]\n",
            "[('Even in the face of higher energy prices and natural disasters, the American people have turned in an economic performance that is the envy of the world.', 'NN')]\n",
            "[('The American economy is preeminent, but we cannot afford to be complacent.', 'NN')]\n",
            "[(\"In a dynamic world economy, we are seeing new competitors, like China and India, and this creates uncertainty, which makes it easier to feed people's fears.\", 'NN')]\n",
            "[(\"So we're seeing some old temptations return.\", 'NN')]\n",
            "[('Protectionists want to escape competition, pretending that we can keep our high standard of living while walling off our economy.', 'NN')]\n",
            "[('Others say that the government needs to take a larger role in directing the economy, centralizing more power in Washington and increasing taxes.', 'NN')]\n",
            "[('We hear claims that immigrants are somehow bad for the economy -- even though this economy could not function without them.', 'JJ')]\n",
            "[('(Applause.)', 'NN')]\n",
            "[('All these are forms of economic retreat, and they lead in the same direction -- toward a stagnant and second-rate economy.', 'JJ')]\n",
            "[('Tonight I will set out a better path: an agenda for a nation that competes with confidence; an agenda that will raise standards of living and generate new jobs.', 'NN')]\n",
            "[('Americans should not fear our economic future, because we intend to shape it.', 'NN')]\n",
            "[('Keeping America competitive begins with keeping our economy growing.', 'NNP')]\n",
            "[('And our economy grows when Americans have more of their own money to spend, save, and invest.', 'NN')]\n",
            "[('In the last five years, the tax relief you passed has left $880 billion in the hands of American workers, investors, small businesses, and families -- and they have used it to help produce more than four years of uninterrupted economic growth.', 'NN')]\n",
            "[('(Applause.)', 'NN')]\n",
            "[('Yet the tax relief is set to expire in the next few years.', 'NN')]\n",
            "[('If we do nothing, American families will face a massive tax increase they do not expect and will not welcome.', 'NN')]\n",
            "[('Because America needs more than a temporary expansion, we need more than temporary tax relief.', 'NN')]\n",
            "[('I urge the Congress to act responsibly, and make the tax cuts permanent.', 'NN')]\n",
            "[('(Applause.)', 'NN')]\n",
            "[('Keeping America competitive requires us to be good stewards of tax dollars.', 'NNS')]\n",
            "[(\"Every year of my presidency, we've reduced the growth of non-security discretionary spending, and last year you passed bills that cut this spending.\", 'NN')]\n",
            "[('This year my budget will cut it again, and reduce or eliminate more than 140 programs that are performing poorly or not fulfilling essential priorities.', 'NN')]\n",
            "[('By passing these reforms, we will save the American taxpayer another $14 billion next year, and stay on track to cut the deficit in half by 2009.', 'NN')]\n",
            "[('(Applause.)', 'NN')]\n",
            "[('I am pleased that members of Congress are working on earmark reform, because the federal budget has too many special interest projects.', 'NN')]\n",
            "[('(Applause.)', 'NN')]\n",
            "[('And we can tackle this problem together, if you pass the line-item veto.', 'JJ')]\n",
            "[('(Applause.)', 'NN')]\n",
            "[('We must also confront the larger challenge of mandatory spending, or entitlements.', 'NN')]\n",
            "[(\"This year, the first of about 78 million baby boomers turn 60, including two of my Dad's favorite people -- me and President Clinton.\", 'NN')]\n",
            "[('(Laughter.)', 'NN')]\n",
            "[('This milestone is more than a personal crisis -- (laughter) -- it is a national challenge.', 'NN')]\n",
            "[('The retirement of the baby boom generation will put unprecedented strains on the federal government.', 'NN')]\n",
            "[('By 2030, spending for Social Security, Medicare and Medicaid alone will be almost 60 percent of the entire federal budget.', 'NN')]\n",
            "[('And that will present future Congresses with impossible choices -- staggering tax increases, immense deficits, or deep cuts in every category of spending.', 'JJ')]\n",
            "[('Congress did not act last year on my proposal to save Social Security -- (applause) -- yet the rising cost of entitlements is a problem that is not going away.', 'NN')]\n",
            "[('(Applause.)', 'NN')]\n",
            "[('And every year we fail to act, the situation gets worse.', 'NN')]\n",
            "[('So tonight, I ask you to join me in creating a commission to examine the full impact of baby boom retirements on Social Security, Medicare, and Medicaid.', 'NN')]\n",
            "[('This commission should include members of Congress of both parties, and offer bipartisan solutions.', 'NN')]\n",
            "[('We need to put aside partisan politics and work together and get this problem solved.', 'NN')]\n",
            "[('(Applause.)', 'NN')]\n",
            "[('Keeping America competitive requires us to open more markets for all that Americans make and grow.', 'NNP')]\n",
            "[('One out of every five factory jobs in America is related to global trade, and we want people everywhere to buy American.', 'NN')]\n",
            "[('With open markets and a level playing field, no one can out-produce or out-compete the American worker.', 'JJ')]\n",
            "[('(Applause.)', 'NN')]\n",
            "[('Keeping America competitive requires an immigration system that upholds our laws, reflects our values, and serves the interests of our economy.', 'NNP')]\n",
            "[('Our nation needs orderly and secure borders.', 'NN')]\n",
            "[('(Applause.)', 'NN')]\n",
            "[('To meet this goal, we must have stronger immigration enforcement and border protection.', 'NN')]\n",
            "[('(Applause.)', 'NN')]\n",
            "[('And we must have a rational, humane guest worker program that rejects amnesty, allows temporary jobs for people who seek them legally, and reduces smuggling and crime at the border.', 'NN')]\n",
            "[('(Applause.)', 'NN')]\n",
            "[('Keeping America competitive requires affordable health care.', 'NNP')]\n",
            "[('(Applause.)', 'NN')]\n",
            "[('Our government has a responsibility to provide health care for the poor and the elderly, and we are meeting that responsibility.', 'NN')]\n",
            "[('(Applause.)', 'NN')]\n",
            "[('For all Americans -- for all Americans, we must confront the rising cost of care, strengthen the doctor-patient relationship, and help people afford the insurance coverage they need.', 'NN')]\n",
            "[('(Applause.)', 'NN')]\n",
            "[('We will make wider use of electronic records and other health information technology, to help control costs and reduce dangerous medical errors.', 'NN')]\n",
            "[('We will strengthen health savings accounts -- making sure individuals and small business employees can buy insurance with the same advantages that people working for big businesses now get.', 'JJ')]\n",
            "[('(Applause.)', 'NN')]\n",
            "[('We will do more to make this coverage portable, so workers can switch jobs without having to worry about losing their health insurance.', 'NN')]\n",
            "[('(Applause.)', 'NN')]\n",
            "[('And because lawsuits are driving many good doctors out of practice -- leaving women in nearly 1,500 American counties without a single OB/GYN -- I ask the Congress to pass medical liability reform this year.', 'JJ')]\n",
            "[('(Applause.)', 'NN')]\n",
            "[('Keeping America competitive requires affordable energy.', 'NNP')]\n",
            "[('And here we have a serious problem: America is addicted to oil, which is often imported from unstable parts of the world.', 'NN')]\n",
            "[('The best way to break this addiction is through technology.', 'NN')]\n",
            "[('Since 2001, we have spent nearly $10 billion to develop cleaner, cheaper, and more reliable alternative energy sources -- and we are on the threshold of incredible advances.', 'NN')]\n",
            "[('So tonight, I announce the Advanced Energy Initiative -- a 22-percent increase in clean-energy research -- at the Department of Energy, to push for breakthroughs in two vital areas.', 'NN')]\n",
            "[('To change how we power our homes and offices, we will invest more in zero-emission coal-fired plants, revolutionary solar and wind technologies, and clean, safe nuclear energy.', 'NN')]\n",
            "[('(Applause.)', 'NN')]\n",
            "[('We must also change how we power our automobiles.', 'NN')]\n",
            "[('We will increase our research in better batteries for hybrid and electric cars, and in pollution-free cars that run on hydrogen.', 'JJ')]\n",
            "[(\"We'll also fund additional research in cutting-edge methods of producing ethanol, not just from corn, but from wood chips and stalks, or switch grass.\", 'JJ')]\n",
            "[('Our goal is to make this new kind of ethanol practical and competitive within six years.', 'NN')]\n",
            "[('(Applause.)', 'NN')]\n",
            "[('Breakthroughs on this and other new technologies will help us reach another great goal: to replace more than 75 percent of our oil imports from the Middle East by 2025.', 'NN')]\n",
            "[('(Applause.)', 'NN')]\n",
            "[('By applying the talent and technology of America, this country can dramatically improve our environment, move beyond a petroleum-based economy, and make our dependence on Middle Eastern oil a thing of the past.', 'NN')]\n",
            "[('(Applause.)', 'NN')]\n",
            "[('And to keep America competitive, one commitment is necessary above all: We must continue to lead the world in human talent and creativity.', 'NN')]\n",
            "[(\"Our greatest advantage in the world has always been our educated, hardworking, ambitious people -- and we're going to keep that edge.\", 'NN')]\n",
            "[(\"Tonight I announce an American Competitiveness Initiative, to encourage innovation throughout our economy, and to give our nation's children a firm grounding in math and science.\", 'NN')]\n",
            "[('(Applause.)', 'NN')]\n",
            "[('First, I propose to double the federal commitment to the most critical basic research programs in the physical sciences over the next 10 years.', 'NN')]\n",
            "[(\"This funding will support the work of America's most creative minds as they explore promising areas such as nanotechnology, supercomputing, and alternative energy sources.\", 'NN')]\n",
            "[('Second, I propose to make permanent the research and development tax credit -- (applause) -- to encourage bolder private-sector initiatives in technology.', 'NN')]\n",
            "[('With more research in both the public and private sectors, we will improve our quality of life -- and ensure that America will lead the world in opportunity and innovation for decades to come.', 'JJ')]\n",
            "[('(Applause.)', 'NN')]\n",
            "[('Third, we need to encourage children to take more math and science, and to make sure those courses are rigorous enough to compete with other nations.', 'NN')]\n",
            "[(\"We've made a good start in the early grades with the No Child Left Behind Act, which is raising standards and lifting test scores across our country.\", 'NN')]\n",
            "[('Tonight I propose to train 70,000 high school teachers to lead advanced-placement courses in math and science, bring 30,000 math and science professionals to teach in classrooms, and give early help to students who struggle with math, so they have a better chance at good, high-wage jobs.', 'NN')]\n",
            "[(\"If we ensure that America's children succeed in life, they will ensure that America succeeds in the world.\", 'NN')]\n",
            "[('(Applause.)', 'NN')]\n",
            "[('Preparing our nation to compete in the world is a goal that all of us can share.', 'NN')]\n",
            "[('I urge you to support the American Competitiveness Initiative, and together we will show the world what the American people can achieve.', 'NN')]\n",
            "[('America is a great force for freedom and prosperity.', 'NN')]\n",
            "[('Yet our greatness is not measured in power or luxuries, but by who we are and how we treat one another.', 'NN')]\n",
            "[('So we strive to be a compassionate, decent, hopeful society.', 'NN')]\n",
            "[('In recent years, America has become a more hopeful nation.', 'NN')]\n",
            "[('Violent crime rates have fallen to their lowest levels since the 1970s.', 'NN')]\n",
            "[('Welfare cases have dropped by more than half over the past decade.', 'NN')]\n",
            "[('Drug use among youth is down 19 percent since 2001.', 'NN')]\n",
            "[('There are fewer abortions in America than at any point in the last three decades, and the number of children born to teenage mothers has been falling for a dozen years in a row.', 'NN')]\n",
            "[('(Applause.)', 'NN')]\n",
            "[('These gains are evidence of a quiet transformation -- a revolution of conscience, in which a rising generation is finding that a life of personal responsibility is a life of fulfillment.', 'NN')]\n",
            "[('Government has played a role.', 'NN')]\n",
            "[('Wise policies, such as welfare reform and drug education and support for abstinence and adoption have made a difference in the character of our country.', 'NN')]\n",
            "[('And everyone here tonight, Democrat and Republican, has a right to be proud of this record.', 'NN')]\n",
            "[('(Applause.)', 'NN')]\n",
            "[('Yet many Americans, especially parents, still have deep concerns about the direction of our culture, and the health of our most basic institutions.', 'NN')]\n",
            "[(\"They're concerned about unethical conduct by public officials, and discouraged by activist courts that try to redefine marriage.\", 'NN')]\n",
            "[('They worry about children in our society who need direction and love, and about fellow citizens still displaced by natural disaster, and about suffering caused by treatable diseases.', 'NN')]\n",
            "[('As we look at these challenges, we must never give in to the belief that America is in decline, or that our culture is doomed to unravel.', 'NN')]\n",
            "[('The American people know better than that.', 'NN')]\n",
            "[('We have proven the pessimists wrong before -- and we will do it again.', 'JJ')]\n",
            "[('(Applause.)', 'NN')]\n",
            "[('A hopeful society depends on courts that deliver equal justice under the law.', 'NN')]\n",
            "[('The Supreme Court now has two superb new members -- new members on its bench: Chief Justice John Roberts and Justice Sam Alito.', 'NN')]\n",
            "[('(Applause.)', 'NN')]\n",
            "[('I thank the Senate for confirming both of them.', 'NN')]\n",
            "[('I will continue to nominate men and women who understand that judges must be servants of the law, and not legislate from the bench.', 'NN')]\n",
            "[('(Applause.)', 'NN')]\n",
            "[('Today marks the official retirement of a very special American.', 'NN')]\n",
            "[(\"For 24 years of faithful service to our nation, the United States is grateful to Justice Sandra Day O'Connor.\", 'NN')]\n",
            "[('(Applause.)', 'NN')]\n",
            "[('A hopeful society has institutions of science and medicine that do not cut ethical corners, and that recognize the matchless value of every life.', 'NN')]\n",
            "[('Tonight I ask you to pass legislation to prohibit the most egregious abuses of medical research: human cloning in all its forms, creating or implanting embryos for experiments, creating human-animal hybrids, and buying, selling, or patenting human embryos.', 'NN')]\n",
            "[('Human life is a gift from our Creator -- and that gift should never be discarded, devalued or put up for sale.', 'NN')]\n",
            "[('(Applause.)', 'NN')]\n",
            "[('A hopeful society expects elected officials to uphold the public trust.', 'NN')]\n",
            "[('(Applause.)', 'NN')]\n",
            "[('Honorable people in both parties are working on reforms to strengthen the ethical standards of Washington -- I support your efforts.', 'NN')]\n",
            "[('Each of us has made a pledge to be worthy of public responsibility -- and that is a pledge we must never forget, never dismiss, and never betray.', 'NN')]\n",
            "[('(Applause.)', 'NN')]\n",
            "[('As we renew the promise of our institutions, let us also show the character of America in our compassion and care for one another.', 'NN')]\n",
            "[('A hopeful society gives special attention to children who lack direction and love.', 'NN')]\n",
            "[(\"Through the Helping America's Youth Initiative, we are encouraging caring adults to get involved in the life of a child -- and this good work is being led by our First Lady, Laura Bush.\", 'NN')]\n",
            "[('(Applause.)', 'NN')]\n",
            "[(\"This year we will add resources to encourage young people to stay in school, so more of America's youth can raise their sights and achieve their dreams.\", 'NN')]\n",
            "[(\"A hopeful society comes to the aid of fellow citizens in times of suffering and emergency -- and stays at it until they're back on their feet.\", 'JJ')]\n",
            "[('So far the federal government has committed $85 billion to the people of the Gulf Coast and New Orleans.', 'NN')]\n",
            "[(\"We're removing debris and repairing highways and rebuilding stronger levees.\", 'NN')]\n",
            "[(\"We're providing business loans and housing assistance.\", 'NN')]\n",
            "[('Yet as we meet these immediate needs, we must also address deeper challenges that existed before the storm arrived.', 'NN')]\n",
            "[('In New Orleans and in other places, many of our fellow citizens have felt excluded from the promise of our country.', 'NN')]\n",
            "[('The answer is not only temporary relief, but schools that teach every child, and job skills that bring upward mobility, and more opportunities to own a home and start a business.', 'NN')]\n",
            "[('As we recover from a disaster, let us also work for the day when all Americans are protected by justice, equal in hope, and rich in opportunity.', 'NN')]\n",
            "[('(Applause.)', 'NN')]\n",
            "[('A hopeful society acts boldly to fight diseases like HIV/AIDS, which can be prevented, and treated, and defeated.', 'NN')]\n",
            "[('More than a million Americans live with HIV, and half of all AIDS cases occur among African Americans.', 'NN')]\n",
            "[('I ask Congress to reform and reauthorize the Ryan White Act, and provide new funding to states, so we end the waiting lists for AIDS medicines in America.', 'NN')]\n",
            "[('(Applause.)', 'NN')]\n",
            "[('We will also lead a nationwide effort, working closely with African American churches and faith-based groups, to deliver rapid HIV tests to millions, end the stigma of AIDS, and come closer to the day when there are no new infections in America.', 'JJ')]\n",
            "[('(Applause.)', 'NN')]\n",
            "[(\"Fellow citizens, we've been called to leadership in a period of consequence.\", 'NN')]\n",
            "[(\"We've entered a great ideological conflict we did nothing to invite.\", 'NN')]\n",
            "[('We see great changes in science and commerce that will influence all our lives.', 'NN')]\n",
            "[('Sometimes it can seem that history is turning in a wide arc, toward an unknown shore.', 'NN')]\n",
            "[('Yet the destination of history is determined by human action, and every great movement of history comes to a point of choosing.', 'NN')]\n",
            "[('Lincoln could have accepted peace at the cost of disunity and continued slavery.', 'NN')]\n",
            "[('Martin Luther King could have stopped at Birmingham or at Selma, and achieved only half a victory over segregation.', 'NN')]\n",
            "[('The United States could have accepted the permanent division of Europe, and been complicit in the oppression of others.', 'NN')]\n",
            "[('Today, having come far in our own historical journey, we must decide: Will we turn back, or finish well?', 'NN')]\n",
            "[('Before history is written down in books, it is written in courage.', 'NN')]\n",
            "[('Like Americans before us, we will show that courage and we will finish well.', 'NN')]\n",
            "[(\"We will lead freedom's advance.\", 'NN')]\n",
            "[('We will compete and excel in the global economy.', 'NN')]\n",
            "[('We will renew the defining moral commitments of this land.', 'NN')]\n",
            "[('And so we move forward -- optimistic about our country, faithful to its cause, and confident of the victories to come.', 'JJ')]\n",
            "[('May God bless America.', 'NN')]\n",
            "[('(Applause.)', 'NN')]\n"
          ]
        }
      ]
    }
  ]
}