{
  "nbformat": 4,
  "nbformat_minor": 0,
  "metadata": {
    "colab": {
      "provenance": [],
      "authorship_tag": "ABX9TyO4ihpjxJbM1WAnpbxH2rvl",
      "include_colab_link": true
    },
    "kernelspec": {
      "name": "python3",
      "display_name": "Python 3"
    },
    "language_info": {
      "name": "python"
    }
  },
  "cells": [
    {
      "cell_type": "markdown",
      "metadata": {
        "id": "view-in-github",
        "colab_type": "text"
      },
      "source": [
        "<a href=\"https://colab.research.google.com/github/hsallrounder/Computational-Linguistic-And-Natural-Language-Processing-Lab/blob/main/NLP_LAB_File.ipynb\" target=\"_parent\"><img src=\"https://colab.research.google.com/assets/colab-badge.svg\" alt=\"Open In Colab\"/></a>"
      ]
    },
    {
      "cell_type": "markdown",
      "source": [
        "**1.\tConsider an example to find the similarity between two vectors – ‘x’ and ‘y’, using Cosine Similarity.**\n",
        "\n",
        "> **The ‘x’ vector has values, x = { 3, 2, 0, 5 }.**\n",
        "\n",
        "> **The ‘y’ vector has values, y = { 1, 0, 0, 0 }.**\n",
        "\n",
        "**Design a program to compute the similarity between x and y.**"
      ],
      "metadata": {
        "id": "S8a6X5zRAhuG"
      }
    },
    {
      "cell_type": "code",
      "execution_count": 1,
      "metadata": {
        "id": "iV4ZDZfxAblr"
      },
      "outputs": [],
      "source": [
        "import math"
      ]
    },
    {
      "cell_type": "code",
      "source": [
        "x=[3,2,0,5]\n",
        "y=[1,0,0,0]\n",
        "\n",
        "# Cosine Similarity\n",
        "\n",
        "def SOS(x):\n",
        "  res=0\n",
        "  for i in x:\n",
        "    res+=(i*i)\n",
        "  return res\n",
        "\n",
        "def dotProd(x,y):\n",
        "  res=0\n",
        "  for i in range(len(x)):\n",
        "    res+=(x[i]*y[i])\n",
        "  return res\n",
        "\n",
        "def CS(x,y):\n",
        "  return dotProd(x,y)/math.sqrt(SOS(x)*SOS(y))\n",
        "\n",
        "print(\"Cosine Similarity between x & y is\",CS(x,y))"
      ],
      "metadata": {
        "colab": {
          "base_uri": "https://localhost:8080/"
        },
        "id": "F4esorO0Bi0T",
        "outputId": "95a9decf-9f63-4780-d1e4-b709555bbd91"
      },
      "execution_count": 2,
      "outputs": [
        {
          "output_type": "stream",
          "name": "stdout",
          "text": [
            "Cosine Similarity between x & y is 0.48666426339228763\n"
          ]
        }
      ]
    },
    {
      "cell_type": "markdown",
      "source": [
        "**2. Consider two sets A = (0,1,2,5,6) and B = (0, 2,3, 5, 7,9). How similar are A and B?**\n",
        "\n",
        "**Design a program to compute the similarity using Jaccard similarity.**\n"
      ],
      "metadata": {
        "id": "sGKi4UHKBpr1"
      }
    },
    {
      "cell_type": "code",
      "source": [
        "A=[0,1,2,5,6]\n",
        "B=[0,2,3,5,7,9]\n",
        "\n",
        "#Jaccard Similarity\n",
        "\n",
        "def JS(a,b):\n",
        "  setA=set(a)\n",
        "  setB=set(b)\n",
        "  return len(setA.intersection(setB))/len(setA.union(setB))\n",
        "\n",
        "print(\"Similarity between A & B is\",JS(A,B))"
      ],
      "metadata": {
        "colab": {
          "base_uri": "https://localhost:8080/"
        },
        "id": "j5SrRa6WBop0",
        "outputId": "a41b87b0-553e-4ba6-c126-ef8c40ca92aa"
      },
      "execution_count": 3,
      "outputs": [
        {
          "output_type": "stream",
          "name": "stdout",
          "text": [
            "Similarity between A & B is 0.375\n"
          ]
        }
      ]
    },
    {
      "cell_type": "code",
      "source": [
        "!pip install nltk\n",
        "import nltk\n",
        "nltk.download('all')"
      ],
      "metadata": {
        "colab": {
          "base_uri": "https://localhost:8080/"
        },
        "id": "SdCAlWFlFhuv",
        "outputId": "3c1e5389-9197-423c-e525-0fe0444fe20b"
      },
      "execution_count": 4,
      "outputs": [
        {
          "output_type": "stream",
          "name": "stdout",
          "text": [
            "Looking in indexes: https://pypi.org/simple, https://us-python.pkg.dev/colab-wheels/public/simple/\n",
            "Requirement already satisfied: nltk in /usr/local/lib/python3.8/dist-packages (3.7)\n",
            "Requirement already satisfied: tqdm in /usr/local/lib/python3.8/dist-packages (from nltk) (4.64.1)\n",
            "Requirement already satisfied: click in /usr/local/lib/python3.8/dist-packages (from nltk) (7.1.2)\n",
            "Requirement already satisfied: regex>=2021.8.3 in /usr/local/lib/python3.8/dist-packages (from nltk) (2022.6.2)\n",
            "Requirement already satisfied: joblib in /usr/local/lib/python3.8/dist-packages (from nltk) (1.2.0)\n"
          ]
        },
        {
          "output_type": "stream",
          "name": "stderr",
          "text": [
            "[nltk_data] Downloading collection 'all'\n",
            "[nltk_data]    | \n",
            "[nltk_data]    | Downloading package abc to /root/nltk_data...\n",
            "[nltk_data]    |   Package abc is already up-to-date!\n",
            "[nltk_data]    | Downloading package alpino to /root/nltk_data...\n",
            "[nltk_data]    |   Package alpino is already up-to-date!\n",
            "[nltk_data]    | Downloading package averaged_perceptron_tagger to\n",
            "[nltk_data]    |     /root/nltk_data...\n",
            "[nltk_data]    |   Package averaged_perceptron_tagger is already up-\n",
            "[nltk_data]    |       to-date!\n",
            "[nltk_data]    | Downloading package averaged_perceptron_tagger_ru to\n",
            "[nltk_data]    |     /root/nltk_data...\n",
            "[nltk_data]    |   Package averaged_perceptron_tagger_ru is already\n",
            "[nltk_data]    |       up-to-date!\n",
            "[nltk_data]    | Downloading package basque_grammars to\n",
            "[nltk_data]    |     /root/nltk_data...\n",
            "[nltk_data]    |   Package basque_grammars is already up-to-date!\n",
            "[nltk_data]    | Downloading package bcp47 to /root/nltk_data...\n",
            "[nltk_data]    |   Package bcp47 is already up-to-date!\n",
            "[nltk_data]    | Downloading package biocreative_ppi to\n",
            "[nltk_data]    |     /root/nltk_data...\n",
            "[nltk_data]    |   Package biocreative_ppi is already up-to-date!\n",
            "[nltk_data]    | Downloading package bllip_wsj_no_aux to\n",
            "[nltk_data]    |     /root/nltk_data...\n",
            "[nltk_data]    |   Package bllip_wsj_no_aux is already up-to-date!\n",
            "[nltk_data]    | Downloading package book_grammars to\n",
            "[nltk_data]    |     /root/nltk_data...\n",
            "[nltk_data]    |   Package book_grammars is already up-to-date!\n",
            "[nltk_data]    | Downloading package brown to /root/nltk_data...\n",
            "[nltk_data]    |   Package brown is already up-to-date!\n",
            "[nltk_data]    | Downloading package brown_tei to /root/nltk_data...\n",
            "[nltk_data]    |   Package brown_tei is already up-to-date!\n",
            "[nltk_data]    | Downloading package cess_cat to /root/nltk_data...\n",
            "[nltk_data]    |   Package cess_cat is already up-to-date!\n",
            "[nltk_data]    | Downloading package cess_esp to /root/nltk_data...\n",
            "[nltk_data]    |   Package cess_esp is already up-to-date!\n",
            "[nltk_data]    | Downloading package chat80 to /root/nltk_data...\n",
            "[nltk_data]    |   Package chat80 is already up-to-date!\n",
            "[nltk_data]    | Downloading package city_database to\n",
            "[nltk_data]    |     /root/nltk_data...\n",
            "[nltk_data]    |   Package city_database is already up-to-date!\n",
            "[nltk_data]    | Downloading package cmudict to /root/nltk_data...\n",
            "[nltk_data]    |   Package cmudict is already up-to-date!\n",
            "[nltk_data]    | Downloading package comparative_sentences to\n",
            "[nltk_data]    |     /root/nltk_data...\n",
            "[nltk_data]    |   Package comparative_sentences is already up-to-\n",
            "[nltk_data]    |       date!\n",
            "[nltk_data]    | Downloading package comtrans to /root/nltk_data...\n",
            "[nltk_data]    |   Package comtrans is already up-to-date!\n",
            "[nltk_data]    | Downloading package conll2000 to /root/nltk_data...\n",
            "[nltk_data]    |   Package conll2000 is already up-to-date!\n",
            "[nltk_data]    | Downloading package conll2002 to /root/nltk_data...\n",
            "[nltk_data]    |   Package conll2002 is already up-to-date!\n",
            "[nltk_data]    | Downloading package conll2007 to /root/nltk_data...\n",
            "[nltk_data]    |   Package conll2007 is already up-to-date!\n",
            "[nltk_data]    | Downloading package crubadan to /root/nltk_data...\n",
            "[nltk_data]    |   Package crubadan is already up-to-date!\n",
            "[nltk_data]    | Downloading package dependency_treebank to\n",
            "[nltk_data]    |     /root/nltk_data...\n",
            "[nltk_data]    |   Package dependency_treebank is already up-to-date!\n",
            "[nltk_data]    | Downloading package dolch to /root/nltk_data...\n",
            "[nltk_data]    |   Package dolch is already up-to-date!\n",
            "[nltk_data]    | Downloading package europarl_raw to\n",
            "[nltk_data]    |     /root/nltk_data...\n",
            "[nltk_data]    |   Package europarl_raw is already up-to-date!\n",
            "[nltk_data]    | Downloading package extended_omw to\n",
            "[nltk_data]    |     /root/nltk_data...\n",
            "[nltk_data]    |   Package extended_omw is already up-to-date!\n",
            "[nltk_data]    | Downloading package floresta to /root/nltk_data...\n",
            "[nltk_data]    |   Package floresta is already up-to-date!\n",
            "[nltk_data]    | Downloading package framenet_v15 to\n",
            "[nltk_data]    |     /root/nltk_data...\n",
            "[nltk_data]    |   Package framenet_v15 is already up-to-date!\n",
            "[nltk_data]    | Downloading package framenet_v17 to\n",
            "[nltk_data]    |     /root/nltk_data...\n",
            "[nltk_data]    |   Package framenet_v17 is already up-to-date!\n",
            "[nltk_data]    | Downloading package gazetteers to /root/nltk_data...\n",
            "[nltk_data]    |   Package gazetteers is already up-to-date!\n",
            "[nltk_data]    | Downloading package genesis to /root/nltk_data...\n",
            "[nltk_data]    |   Package genesis is already up-to-date!\n",
            "[nltk_data]    | Downloading package gutenberg to /root/nltk_data...\n",
            "[nltk_data]    |   Package gutenberg is already up-to-date!\n",
            "[nltk_data]    | Downloading package ieer to /root/nltk_data...\n",
            "[nltk_data]    |   Package ieer is already up-to-date!\n",
            "[nltk_data]    | Downloading package inaugural to /root/nltk_data...\n",
            "[nltk_data]    |   Package inaugural is already up-to-date!\n",
            "[nltk_data]    | Downloading package indian to /root/nltk_data...\n",
            "[nltk_data]    |   Package indian is already up-to-date!\n",
            "[nltk_data]    | Downloading package jeita to /root/nltk_data...\n",
            "[nltk_data]    |   Package jeita is already up-to-date!\n",
            "[nltk_data]    | Downloading package kimmo to /root/nltk_data...\n",
            "[nltk_data]    |   Package kimmo is already up-to-date!\n",
            "[nltk_data]    | Downloading package knbc to /root/nltk_data...\n",
            "[nltk_data]    |   Package knbc is already up-to-date!\n",
            "[nltk_data]    | Downloading package large_grammars to\n",
            "[nltk_data]    |     /root/nltk_data...\n",
            "[nltk_data]    |   Package large_grammars is already up-to-date!\n",
            "[nltk_data]    | Downloading package lin_thesaurus to\n",
            "[nltk_data]    |     /root/nltk_data...\n",
            "[nltk_data]    |   Package lin_thesaurus is already up-to-date!\n",
            "[nltk_data]    | Downloading package mac_morpho to /root/nltk_data...\n",
            "[nltk_data]    |   Package mac_morpho is already up-to-date!\n",
            "[nltk_data]    | Downloading package machado to /root/nltk_data...\n",
            "[nltk_data]    |   Package machado is already up-to-date!\n",
            "[nltk_data]    | Downloading package masc_tagged to /root/nltk_data...\n",
            "[nltk_data]    |   Package masc_tagged is already up-to-date!\n",
            "[nltk_data]    | Downloading package maxent_ne_chunker to\n",
            "[nltk_data]    |     /root/nltk_data...\n",
            "[nltk_data]    |   Package maxent_ne_chunker is already up-to-date!\n",
            "[nltk_data]    | Downloading package maxent_treebank_pos_tagger to\n",
            "[nltk_data]    |     /root/nltk_data...\n",
            "[nltk_data]    |   Package maxent_treebank_pos_tagger is already up-\n",
            "[nltk_data]    |       to-date!\n",
            "[nltk_data]    | Downloading package moses_sample to\n",
            "[nltk_data]    |     /root/nltk_data...\n",
            "[nltk_data]    |   Package moses_sample is already up-to-date!\n",
            "[nltk_data]    | Downloading package movie_reviews to\n",
            "[nltk_data]    |     /root/nltk_data...\n",
            "[nltk_data]    |   Package movie_reviews is already up-to-date!\n",
            "[nltk_data]    | Downloading package mte_teip5 to /root/nltk_data...\n",
            "[nltk_data]    |   Package mte_teip5 is already up-to-date!\n",
            "[nltk_data]    | Downloading package mwa_ppdb to /root/nltk_data...\n",
            "[nltk_data]    |   Package mwa_ppdb is already up-to-date!\n",
            "[nltk_data]    | Downloading package names to /root/nltk_data...\n",
            "[nltk_data]    |   Package names is already up-to-date!\n",
            "[nltk_data]    | Downloading package nombank.1.0 to /root/nltk_data...\n",
            "[nltk_data]    |   Package nombank.1.0 is already up-to-date!\n",
            "[nltk_data]    | Downloading package nonbreaking_prefixes to\n",
            "[nltk_data]    |     /root/nltk_data...\n",
            "[nltk_data]    |   Package nonbreaking_prefixes is already up-to-date!\n",
            "[nltk_data]    | Downloading package nps_chat to /root/nltk_data...\n",
            "[nltk_data]    |   Package nps_chat is already up-to-date!\n",
            "[nltk_data]    | Downloading package omw to /root/nltk_data...\n",
            "[nltk_data]    |   Package omw is already up-to-date!\n",
            "[nltk_data]    | Downloading package omw-1.4 to /root/nltk_data...\n",
            "[nltk_data]    |   Package omw-1.4 is already up-to-date!\n",
            "[nltk_data]    | Downloading package opinion_lexicon to\n",
            "[nltk_data]    |     /root/nltk_data...\n",
            "[nltk_data]    |   Package opinion_lexicon is already up-to-date!\n",
            "[nltk_data]    | Downloading package panlex_swadesh to\n",
            "[nltk_data]    |     /root/nltk_data...\n",
            "[nltk_data]    |   Package panlex_swadesh is already up-to-date!\n",
            "[nltk_data]    | Downloading package paradigms to /root/nltk_data...\n",
            "[nltk_data]    |   Package paradigms is already up-to-date!\n",
            "[nltk_data]    | Downloading package pe08 to /root/nltk_data...\n",
            "[nltk_data]    |   Package pe08 is already up-to-date!\n",
            "[nltk_data]    | Downloading package perluniprops to\n",
            "[nltk_data]    |     /root/nltk_data...\n",
            "[nltk_data]    |   Package perluniprops is already up-to-date!\n",
            "[nltk_data]    | Downloading package pil to /root/nltk_data...\n",
            "[nltk_data]    |   Package pil is already up-to-date!\n",
            "[nltk_data]    | Downloading package pl196x to /root/nltk_data...\n",
            "[nltk_data]    |   Package pl196x is already up-to-date!\n",
            "[nltk_data]    | Downloading package porter_test to /root/nltk_data...\n",
            "[nltk_data]    |   Package porter_test is already up-to-date!\n",
            "[nltk_data]    | Downloading package ppattach to /root/nltk_data...\n",
            "[nltk_data]    |   Package ppattach is already up-to-date!\n",
            "[nltk_data]    | Downloading package problem_reports to\n",
            "[nltk_data]    |     /root/nltk_data...\n",
            "[nltk_data]    |   Package problem_reports is already up-to-date!\n",
            "[nltk_data]    | Downloading package product_reviews_1 to\n",
            "[nltk_data]    |     /root/nltk_data...\n",
            "[nltk_data]    |   Package product_reviews_1 is already up-to-date!\n",
            "[nltk_data]    | Downloading package product_reviews_2 to\n",
            "[nltk_data]    |     /root/nltk_data...\n",
            "[nltk_data]    |   Package product_reviews_2 is already up-to-date!\n",
            "[nltk_data]    | Downloading package propbank to /root/nltk_data...\n",
            "[nltk_data]    |   Package propbank is already up-to-date!\n",
            "[nltk_data]    | Downloading package pros_cons to /root/nltk_data...\n",
            "[nltk_data]    |   Package pros_cons is already up-to-date!\n",
            "[nltk_data]    | Downloading package ptb to /root/nltk_data...\n",
            "[nltk_data]    |   Package ptb is already up-to-date!\n",
            "[nltk_data]    | Downloading package punkt to /root/nltk_data...\n",
            "[nltk_data]    |   Package punkt is already up-to-date!\n",
            "[nltk_data]    | Downloading package qc to /root/nltk_data...\n",
            "[nltk_data]    |   Package qc is already up-to-date!\n",
            "[nltk_data]    | Downloading package reuters to /root/nltk_data...\n",
            "[nltk_data]    |   Package reuters is already up-to-date!\n",
            "[nltk_data]    | Downloading package rslp to /root/nltk_data...\n",
            "[nltk_data]    |   Package rslp is already up-to-date!\n",
            "[nltk_data]    | Downloading package rte to /root/nltk_data...\n",
            "[nltk_data]    |   Package rte is already up-to-date!\n",
            "[nltk_data]    | Downloading package sample_grammars to\n",
            "[nltk_data]    |     /root/nltk_data...\n",
            "[nltk_data]    |   Package sample_grammars is already up-to-date!\n",
            "[nltk_data]    | Downloading package semcor to /root/nltk_data...\n",
            "[nltk_data]    |   Package semcor is already up-to-date!\n",
            "[nltk_data]    | Downloading package senseval to /root/nltk_data...\n",
            "[nltk_data]    |   Package senseval is already up-to-date!\n",
            "[nltk_data]    | Downloading package sentence_polarity to\n",
            "[nltk_data]    |     /root/nltk_data...\n",
            "[nltk_data]    |   Package sentence_polarity is already up-to-date!\n",
            "[nltk_data]    | Downloading package sentiwordnet to\n",
            "[nltk_data]    |     /root/nltk_data...\n",
            "[nltk_data]    |   Package sentiwordnet is already up-to-date!\n",
            "[nltk_data]    | Downloading package shakespeare to /root/nltk_data...\n",
            "[nltk_data]    |   Package shakespeare is already up-to-date!\n",
            "[nltk_data]    | Downloading package sinica_treebank to\n",
            "[nltk_data]    |     /root/nltk_data...\n",
            "[nltk_data]    |   Package sinica_treebank is already up-to-date!\n",
            "[nltk_data]    | Downloading package smultron to /root/nltk_data...\n",
            "[nltk_data]    |   Package smultron is already up-to-date!\n",
            "[nltk_data]    | Downloading package snowball_data to\n",
            "[nltk_data]    |     /root/nltk_data...\n",
            "[nltk_data]    |   Package snowball_data is already up-to-date!\n",
            "[nltk_data]    | Downloading package spanish_grammars to\n",
            "[nltk_data]    |     /root/nltk_data...\n",
            "[nltk_data]    |   Package spanish_grammars is already up-to-date!\n",
            "[nltk_data]    | Downloading package state_union to /root/nltk_data...\n",
            "[nltk_data]    |   Package state_union is already up-to-date!\n",
            "[nltk_data]    | Downloading package stopwords to /root/nltk_data...\n",
            "[nltk_data]    |   Package stopwords is already up-to-date!\n",
            "[nltk_data]    | Downloading package subjectivity to\n",
            "[nltk_data]    |     /root/nltk_data...\n",
            "[nltk_data]    |   Package subjectivity is already up-to-date!\n",
            "[nltk_data]    | Downloading package swadesh to /root/nltk_data...\n",
            "[nltk_data]    |   Package swadesh is already up-to-date!\n",
            "[nltk_data]    | Downloading package switchboard to /root/nltk_data...\n",
            "[nltk_data]    |   Package switchboard is already up-to-date!\n",
            "[nltk_data]    | Downloading package tagsets to /root/nltk_data...\n",
            "[nltk_data]    |   Package tagsets is already up-to-date!\n",
            "[nltk_data]    | Downloading package timit to /root/nltk_data...\n",
            "[nltk_data]    |   Package timit is already up-to-date!\n",
            "[nltk_data]    | Downloading package toolbox to /root/nltk_data...\n",
            "[nltk_data]    |   Package toolbox is already up-to-date!\n",
            "[nltk_data]    | Downloading package treebank to /root/nltk_data...\n",
            "[nltk_data]    |   Package treebank is already up-to-date!\n",
            "[nltk_data]    | Downloading package twitter_samples to\n",
            "[nltk_data]    |     /root/nltk_data...\n",
            "[nltk_data]    |   Package twitter_samples is already up-to-date!\n",
            "[nltk_data]    | Downloading package udhr to /root/nltk_data...\n",
            "[nltk_data]    |   Package udhr is already up-to-date!\n",
            "[nltk_data]    | Downloading package udhr2 to /root/nltk_data...\n",
            "[nltk_data]    |   Package udhr2 is already up-to-date!\n",
            "[nltk_data]    | Downloading package unicode_samples to\n",
            "[nltk_data]    |     /root/nltk_data...\n",
            "[nltk_data]    |   Package unicode_samples is already up-to-date!\n",
            "[nltk_data]    | Downloading package universal_tagset to\n",
            "[nltk_data]    |     /root/nltk_data...\n",
            "[nltk_data]    |   Package universal_tagset is already up-to-date!\n",
            "[nltk_data]    | Downloading package universal_treebanks_v20 to\n",
            "[nltk_data]    |     /root/nltk_data...\n",
            "[nltk_data]    |   Package universal_treebanks_v20 is already up-to-\n",
            "[nltk_data]    |       date!\n",
            "[nltk_data]    | Downloading package vader_lexicon to\n",
            "[nltk_data]    |     /root/nltk_data...\n",
            "[nltk_data]    |   Package vader_lexicon is already up-to-date!\n",
            "[nltk_data]    | Downloading package verbnet to /root/nltk_data...\n",
            "[nltk_data]    |   Package verbnet is already up-to-date!\n",
            "[nltk_data]    | Downloading package verbnet3 to /root/nltk_data...\n",
            "[nltk_data]    |   Package verbnet3 is already up-to-date!\n",
            "[nltk_data]    | Downloading package webtext to /root/nltk_data...\n",
            "[nltk_data]    |   Package webtext is already up-to-date!\n",
            "[nltk_data]    | Downloading package wmt15_eval to /root/nltk_data...\n",
            "[nltk_data]    |   Package wmt15_eval is already up-to-date!\n",
            "[nltk_data]    | Downloading package word2vec_sample to\n",
            "[nltk_data]    |     /root/nltk_data...\n",
            "[nltk_data]    |   Package word2vec_sample is already up-to-date!\n",
            "[nltk_data]    | Downloading package wordnet to /root/nltk_data...\n",
            "[nltk_data]    |   Package wordnet is already up-to-date!\n",
            "[nltk_data]    | Downloading package wordnet2021 to /root/nltk_data...\n",
            "[nltk_data]    |   Package wordnet2021 is already up-to-date!\n",
            "[nltk_data]    | Downloading package wordnet31 to /root/nltk_data...\n",
            "[nltk_data]    |   Package wordnet31 is already up-to-date!\n",
            "[nltk_data]    | Downloading package wordnet_ic to /root/nltk_data...\n",
            "[nltk_data]    |   Package wordnet_ic is already up-to-date!\n",
            "[nltk_data]    | Downloading package words to /root/nltk_data...\n",
            "[nltk_data]    |   Package words is already up-to-date!\n",
            "[nltk_data]    | Downloading package ycoe to /root/nltk_data...\n",
            "[nltk_data]    |   Package ycoe is already up-to-date!\n",
            "[nltk_data]    | \n",
            "[nltk_data]  Done downloading collection all\n"
          ]
        },
        {
          "output_type": "execute_result",
          "data": {
            "text/plain": [
              "True"
            ]
          },
          "metadata": {},
          "execution_count": 4
        }
      ]
    },
    {
      "cell_type": "markdown",
      "source": [
        "**3. Consider Three documents:**\n",
        "\n",
        "> **d1: “Jack London traveled to Oakland”** \n",
        "\n",
        "> **d2: “Jack London traveled to the city of Oakland”**\n",
        "\n",
        "> **d3: “Jack traveled from Oakland to London”**\n",
        "\n",
        "**Based on shingles of size 2 (2-grams or bigrams), what are the Jaccard coefficients J(d1, d2) and J(d1, d3)?**\n"
      ],
      "metadata": {
        "id": "xVk5F-ljCQ55"
      }
    },
    {
      "cell_type": "code",
      "source": [
        "from nltk.tokenize import word_tokenize\n",
        "from nltk.util import bigrams"
      ],
      "metadata": {
        "id": "De8dX5bCH9U-"
      },
      "execution_count": 5,
      "outputs": []
    },
    {
      "cell_type": "code",
      "source": [
        "d1=\"Jack London traveled to Oakland\"\n",
        "d2=\"Jack London traveled to the city of Oakland\"\n",
        "d3=\"Jack traveled from Oakland to London\"\n",
        "\n",
        "# doc to Bigrams\n",
        "def d2bigram(d):\n",
        "  return set(bigrams(word_tokenize(d)))\n",
        "\n",
        "# Jaccard Coefficient\n",
        "def JC(d1,d2):\n",
        "  bgram_d1=d2bigram(d1)\n",
        "  bgram_d2=d2bigram(d2)\n",
        "  return len(bgram_d1.intersection(bgram_d2))/len(bgram_d1.union(bgram_d2))\n",
        "\n",
        "print(\"J(d1, d2) =\",JC(d1,d2))\n",
        "print(\"J(d1, d3) =\",JC(d1,d3))"
      ],
      "metadata": {
        "colab": {
          "base_uri": "https://localhost:8080/"
        },
        "id": "oTmG4hDCDUMl",
        "outputId": "ba037f26-4f8c-4bdf-8745-fe0221aaac1a"
      },
      "execution_count": 6,
      "outputs": [
        {
          "output_type": "stream",
          "name": "stdout",
          "text": [
            "J(d1, d2) = 0.375\n",
            "J(d1, d3) = 0.0\n"
          ]
        }
      ]
    },
    {
      "cell_type": "markdown",
      "source": [
        "**4. Consider set of documents as**\n",
        "\n",
        "> **D1 : I am Sam.**\n",
        "\n",
        "> **D2 : Sam I am.**\n",
        "\n",
        "> **D3 : I do not like green eggs and ham.**\n",
        "\n",
        "> **D4 : I do not like them, Sam I am.**\n",
        "\n",
        "> **a) Design a program for  (k = 1)-shingles of D1 U D2 U D3 U D4 : U is UNION**\n",
        "\n",
        "> **b) Design a program for  (k = 2)-shingles of D1 U D2 U D3 U D4 : U is UNION**\n",
        "\n",
        "> **c) Design a program for  (k = 3)-Character shingles of D1 U D2**\n",
        "\n",
        "> **d) Design a program for  (k = 4)-Character shingles of D1 U D2**"
      ],
      "metadata": {
        "id": "d2Yq2xpdEIZW"
      }
    },
    {
      "cell_type": "code",
      "source": [
        "from nltk.tokenize import word_tokenize\n",
        "from nltk.util import ngrams\n",
        "\n",
        "d1=\"I am Sam.\"\n",
        "d2=\"Sam I am.\"\n",
        "d3=\"I do not like green eggs and ham.\"\n",
        "d4=\"I do not like them, Sam I am.\"\n",
        "\n",
        "# doc to ngrams\n",
        "def d2ngram(d,n):\n",
        "  return set(ngrams(word_tokenize(d),n))\n",
        "\n",
        "# doc to k character shingles\n",
        "def d2k_shingle(d,k):\n",
        "  return set(ngrams(d,k))\n",
        "\n",
        "# union of results\n",
        "def d_s2union(docs):\n",
        "  res=set()\n",
        "  for i in docs:\n",
        "    res=res.union(i)\n",
        "  return res\n",
        "\n",
        "print('a)')\n",
        "l=[]\n",
        "n=1\n",
        "l.append(d2ngram(d1,n))\n",
        "l.append(d2ngram(d2,n))\n",
        "l.append(d2ngram(d3,n))\n",
        "l.append(d2ngram(d4,n))\n",
        "print(d_s2union(l))\n",
        "\n",
        "print('\\nb)')\n",
        "l=[]\n",
        "n=2\n",
        "l.append(d2ngram(d1,n))\n",
        "l.append(d2ngram(d2,n))\n",
        "l.append(d2ngram(d3,n))\n",
        "l.append(d2ngram(d4,n))\n",
        "print(d_s2union(l))\n",
        "\n",
        "print('\\nc)')\n",
        "l=[]\n",
        "k=3\n",
        "l.append(d2k_shingle(d1,k))\n",
        "l.append(d2k_shingle(d1,k))\n",
        "print(d_s2union(l))\n",
        "\n",
        "print('\\nd)')\n",
        "l=[]\n",
        "k=4\n",
        "l.append(d2k_shingle(d1,k))\n",
        "l.append(d2k_shingle(d1,k))\n",
        "print(d_s2union(l))"
      ],
      "metadata": {
        "colab": {
          "base_uri": "https://localhost:8080/"
        },
        "id": "qHnp7_seEH2W",
        "outputId": "9a10cb7e-c423-4758-eea8-99224c3f1a3a"
      },
      "execution_count": 7,
      "outputs": [
        {
          "output_type": "stream",
          "name": "stdout",
          "text": [
            "a)\n",
            "{('not',), ('and',), ('.',), (',',), ('like',), ('I',), ('eggs',), ('am',), ('them',), ('green',), ('Sam',), ('ham',), ('do',)}\n",
            "\n",
            "b)\n",
            "{('I', 'am'), ('I', 'do'), ('and', 'ham'), ('am', '.'), ('do', 'not'), ('not', 'like'), ('eggs', 'and'), ('Sam', '.'), ('like', 'green'), (',', 'Sam'), ('like', 'them'), ('am', 'Sam'), ('ham', '.'), ('Sam', 'I'), ('them', ','), ('green', 'eggs')}\n",
            "\n",
            "c)\n",
            "{('I', ' ', 'a'), (' ', 'S', 'a'), ('a', 'm', '.'), (' ', 'a', 'm'), ('S', 'a', 'm'), ('a', 'm', ' '), ('m', ' ', 'S')}\n",
            "\n",
            "d)\n",
            "{('I', ' ', 'a', 'm'), (' ', 'a', 'm', ' '), (' ', 'S', 'a', 'm'), ('a', 'm', ' ', 'S'), ('m', ' ', 'S', 'a'), ('S', 'a', 'm', '.')}\n"
          ]
        }
      ]
    },
    {
      "cell_type": "markdown",
      "source": [
        "**5. Suppose our document D is the string abcdabd, and we pick k = 2. Then the set of 2-shingles for D is {ab, bc, cd, da, bd}. Note that the substring ab appears twice within D, but appears only once as a shingle. A variation of shingling produces a bag, rather than a set, so each shingle would appear in the result as many times as it appears in the document. Design a program to model the above scenario.**"
      ],
      "metadata": {
        "id": "DzbCT3uQMa4N"
      }
    },
    {
      "cell_type": "code",
      "source": [
        "from nltk.util import ngrams\n",
        "\n",
        "d=\"abcdabd\"\n",
        "\n",
        "# doc to k character shingles with repitition\n",
        "def d2k_shingle(d,k):\n",
        "  return list(ngrams(d,k))\n",
        "\n",
        "print(d2k_shingle(d,2))"
      ],
      "metadata": {
        "colab": {
          "base_uri": "https://localhost:8080/"
        },
        "id": "zMbJ-u9EMfw3",
        "outputId": "bc083f9e-9f22-4ba7-9ff2-2faddc3a10a7"
      },
      "execution_count": 8,
      "outputs": [
        {
          "output_type": "stream",
          "name": "stdout",
          "text": [
            "[('a', 'b'), ('b', 'c'), ('c', 'd'), ('d', 'a'), ('a', 'b'), ('b', 'd')]\n"
          ]
        }
      ]
    },
    {
      "cell_type": "markdown",
      "source": [
        "**6. A database contains 80 records on a particular topic.  A search was conducted on that topic and 60 records were retrieved.  Of the 60 records retrieved, 45 were relevant. Design a Program to compute the precision and recall scores for the search.**"
      ],
      "metadata": {
        "id": "8KD_RkNGNO-a"
      }
    },
    {
      "cell_type": "code",
      "source": [
        "#precison\n",
        "def precision(retrieved,relevant):\n",
        "  return (relevant/retrieved)*100\n",
        "\n",
        "#recall\n",
        "def recall(total,relevant):\n",
        "  return (relevant/total)*100\n",
        "\n",
        "#func\n",
        "def fun(total,retrieved,relevant):\n",
        "  print(\"Total Records =\",total)\n",
        "  print(\"Retrieved Records =\",retrieved)\n",
        "  print(\"Relevant Records Retrieved =\",relevant)\n",
        "  print()\n",
        "  print(\"Precision =\",precision(retrieved,relevant),\"%\")\n",
        "  print(\"Recall =\",recall(total,relevant),\"%\")\n",
        "\n",
        "total=80\n",
        "retrieved=60\n",
        "relevant=45\n",
        "\n",
        "fun(total,retrieved,relevant)"
      ],
      "metadata": {
        "colab": {
          "base_uri": "https://localhost:8080/"
        },
        "id": "ctQnXUX0NROs",
        "outputId": "75592445-e7e6-4719-f603-7708995e0f8b"
      },
      "execution_count": 9,
      "outputs": [
        {
          "output_type": "stream",
          "name": "stdout",
          "text": [
            "Total Records = 80\n",
            "Retrieved Records = 60\n",
            "Relevant Records Retrieved = 45\n",
            "\n",
            "Precision = 75.0 %\n",
            "Recall = 56.25 %\n"
          ]
        }
      ]
    },
    {
      "cell_type": "markdown",
      "source": [
        "**7. Consider this sentence: “a rose is a rose is a rose”.  And represent this document as set of shingles (Word n gram) . Design a program for extracting shingles  for n = 3 and n=4  for above sentence.**"
      ],
      "metadata": {
        "id": "euuDj1UGQd9D"
      }
    },
    {
      "cell_type": "code",
      "source": [
        "from nltk.tokenize import word_tokenize\n",
        "from nltk.util import ngrams\n",
        "\n",
        "d=\"a rose is a rose is a rose\"\n",
        "\n",
        "# doc to ngrams\n",
        "def d2ngram(d,n):\n",
        "  return set(ngrams(word_tokenize(d),n))\n",
        "\n",
        "print(\"Word ngram for n=3:\")\n",
        "print(d2ngram(d,3))\n",
        "print()\n",
        "print(\"Word ngram for n=4:\")\n",
        "print(d2ngram(d,4))"
      ],
      "metadata": {
        "colab": {
          "base_uri": "https://localhost:8080/"
        },
        "id": "rPjLlSghQdym",
        "outputId": "a23f0685-e65d-43e5-8539-d9da70f5358a"
      },
      "execution_count": 10,
      "outputs": [
        {
          "output_type": "stream",
          "name": "stdout",
          "text": [
            "Word ngram for n=3:\n",
            "{('rose', 'is', 'a'), ('a', 'rose', 'is'), ('is', 'a', 'rose')}\n",
            "\n",
            "Word ngram for n=4:\n",
            "{('is', 'a', 'rose', 'is'), ('rose', 'is', 'a', 'rose'), ('a', 'rose', 'is', 'a')}\n"
          ]
        }
      ]
    },
    {
      "cell_type": "markdown",
      "source": [
        "**8. Compute the similarity between:**\n",
        "\n",
        "> **a) night and nacht**\n",
        "\n",
        "\n",
        "> **b) Ashish and Aasheesh**"
      ],
      "metadata": {
        "id": "GEiPjSCvSLba"
      }
    },
    {
      "cell_type": "code",
      "source": [
        "from nltk.util import ngrams"
      ],
      "metadata": {
        "id": "TPn4JDlVSnWo"
      },
      "execution_count": 11,
      "outputs": []
    },
    {
      "cell_type": "code",
      "source": [
        "# doc to k character shingles\n",
        "def d2k_shingle(d,k):\n",
        "  return set(ngrams(d,k))\n",
        "\n",
        "# Jaccard Similarity\n",
        "def JS(d1,d2,n):\n",
        "  nshingle_d1=d2k_shingle(d1,n)\n",
        "  nshingle_d2=d2k_shingle(d2,n)\n",
        "  return len(nshingle_d1.intersection(nshingle_d2))/len(nshingle_d1.union(nshingle_d2))\n",
        "\n",
        "print(\"a)\")\n",
        "print(\"Similarity between night and nacht is\",JS(\"night\",\"nacht\",2))\n",
        "\n",
        "print(\"\\nb)\")\n",
        "print(\"Similarity between Ashish and Aasheesh is\",JS(\"Ashish\",\"Aasheesh\",2))"
      ],
      "metadata": {
        "colab": {
          "base_uri": "https://localhost:8080/"
        },
        "id": "-rAPPXx5SYjd",
        "outputId": "7b8e6c84-e826-44d8-b2ce-4e11d217ccc7"
      },
      "execution_count": 12,
      "outputs": [
        {
          "output_type": "stream",
          "name": "stdout",
          "text": [
            "a)\n",
            "Similarity between night and nacht is 0.14285714285714285\n",
            "\n",
            "b)\n",
            "Similarity between Ashish and Aasheesh is 0.1111111111111111\n"
          ]
        }
      ]
    },
    {
      "cell_type": "markdown",
      "source": [
        "**9. Consider a case insensitive query and document collection with a query Q and a document collection consisting of the following three documents:**\n",
        "\n",
        "> **Q: \"gold silver truck\"**\n",
        "\n",
        "> **D1: \"Shipment of gold damaged in a fire\"**\n",
        "\n",
        "> **D2: \"Delivery of silver arrived in a silver truck\"**\n",
        "\n",
        "> **D3: \"Shipment of gold arrived in a truck\"**\n",
        "\n",
        "**Design a program to compute the similarity between**\n",
        "\n",
        "> **a)Q & D1**\n",
        "\n",
        "> **b)Q & D2**\n",
        "\n",
        "> **c)Q & D3**\n",
        "\n",
        "**Find which document (D) matches best with the query (Q)**\n"
      ],
      "metadata": {
        "id": "kueiku57UIYb"
      }
    },
    {
      "cell_type": "code",
      "source": [
        "from nltk.tokenize import word_tokenize\n",
        "from nltk.util import bigrams\n",
        "\n",
        "q=\"gold silver truck\" \n",
        "d1=\"Shipment of gold damaged in a fire\"\n",
        "d2=\"Delivery of silver arrived in a silver truck\" \n",
        "d3=\"Shipment of gold arrived in a truck\"\n",
        "\n",
        "# doc to Bigrams\n",
        "def d2bigram(d):\n",
        "  return set(bigrams(word_tokenize(d)))\n",
        "\n",
        "# Jaccard Coefficient\n",
        "def JS(d1,d2):\n",
        "  bgram_d1=d2bigram(d1)\n",
        "  bgram_d2=d2bigram(d2)\n",
        "  return len(bgram_d1.intersection(bgram_d2))/len(bgram_d1.union(bgram_d2))\n",
        "\n",
        "#find best match\n",
        "def findBestMatch(q,*d):\n",
        "  res=0\n",
        "  ans=\"\"\n",
        "  d_num=0\n",
        "  for i in range(len(d)):\n",
        "    doc=d[i]\n",
        "    tmp=JS(q,doc)\n",
        "    print(\"For JS(Q, D{}): {}\".format(i+1,tmp))\n",
        "    if tmp>res:\n",
        "      res=tmp\n",
        "      ans=doc\n",
        "      d_num=i+1\n",
        "  print(\"Document D{} matches best with the given Query.\".format(d_num))\n",
        "\n",
        "findBestMatch(q,d1,d2,d3)"
      ],
      "metadata": {
        "colab": {
          "base_uri": "https://localhost:8080/"
        },
        "id": "VI-Ey1xoU5wL",
        "outputId": "153e6799-0fb1-4b13-e26e-30c58a07ccc5"
      },
      "execution_count": 13,
      "outputs": [
        {
          "output_type": "stream",
          "name": "stdout",
          "text": [
            "For JS(Q, D1): 0.0\n",
            "For JS(Q, D2): 0.125\n",
            "For JS(Q, D3): 0.0\n",
            "Document D2 matches best with the given Query.\n"
          ]
        }
      ]
    }
  ]
}